{
  "nbformat": 4,
  "nbformat_minor": 0,
  "metadata": {
    "colab": {
      "name": "3월14일_motion_keypoint_augmentation.ipynb",
      "provenance": [],
      "collapsed_sections": []
    },
    "kernelspec": {
      "name": "python3",
      "display_name": "Python 3"
    },
    "accelerator": "GPU"
  },
  "cells": [
    {
      "cell_type": "code",
      "metadata": {
        "id": "0MiXVQMbKUm5"
      },
      "source": [
        "import cv2\r\n",
        "import glob\r\n",
        "import matplotlib.pyplot as plt\r\n",
        "import numpy as np\r\n",
        "import os\r\n",
        "import pandas as pd\r\n",
        "import random\r\n",
        "import shutil\r\n",
        "import tensorflow as tf\r\n",
        "\r\n",
        "from keras.layers.advanced_activations import LeakyReLU, PReLU\r\n",
        "from math import cos, sin, pi\r\n",
        "from PIL import Image\r\n",
        "from tqdm import tqdm\r\n",
        "from tensorflow.keras import Sequential, Model\r\n",
        "from tensorflow.keras.callbacks import ModelCheckpoint, EarlyStopping, ReduceLROnPlateau\r\n",
        "from tensorflow.keras.layers import Activation, Convolution2D, MaxPooling2D, BatchNormalization, Flatten, Dense, Dropout, Conv2D, ZeroPadding2D, GlobalAveragePooling2D\r\n",
        "from tensorflow.keras.models import load_model\r\n",
        "from tensorflow.keras.optimizers import Adam"
      ],
      "execution_count": 2,
      "outputs": []
    },
    {
      "cell_type": "code",
      "metadata": {
        "colab": {
          "base_uri": "https://localhost:8080/"
        },
        "id": "iC2-2KSFKeGM",
        "outputId": "820c3a29-e95f-40c1-ee45-d7f4768eea56"
      },
      "source": [
        "from google.colab import drive\r\n",
        "drive.mount('/content/drive')"
      ],
      "execution_count": 3,
      "outputs": [
        {
          "output_type": "stream",
          "text": [
            "Drive already mounted at /content/drive; to attempt to forcibly remount, call drive.mount(\"/content/drive\", force_remount=True).\n"
          ],
          "name": "stdout"
        }
      ]
    },
    {
      "cell_type": "markdown",
      "metadata": {
        "id": "A5v1DPm2VXaa"
      },
      "source": [
        "#data load & train/test split"
      ]
    },
    {
      "cell_type": "code",
      "metadata": {
        "id": "zE_SwpRTKlml"
      },
      "source": [
        "# 경로 이동\r\n",
        "os.chdir('/content/drive/MyDrive/dacon_keypoint_data')"
      ],
      "execution_count": 4,
      "outputs": []
    },
    {
      "cell_type": "code",
      "metadata": {
        "id": "OvFKGCOWK0YH"
      },
      "source": [
        "root_dir = '/content/drive/MyDrive/dacon_keypoint_data'"
      ],
      "execution_count": 5,
      "outputs": []
    },
    {
      "cell_type": "code",
      "metadata": {
        "id": "_ez2RKiGLJIh"
      },
      "source": [
        "# os.makedirs(root_dir +'/train')\r\n",
        "# os.makedirs(root_dir +'/val')"
      ],
      "execution_count": 6,
      "outputs": []
    },
    {
      "cell_type": "code",
      "metadata": {
        "id": "UQ07LldwLKzn"
      },
      "source": [
        "# validation용 파일은 10% 비율로 random sampling\r\n",
        "random.seed(1)\r\n",
        "src = \"train_imgs\"\r\n",
        "all_filename = os.listdir(src)\r\n"
      ],
      "execution_count": 7,
      "outputs": []
    },
    {
      "cell_type": "code",
      "metadata": {
        "colab": {
          "base_uri": "https://localhost:8080/"
        },
        "id": "jqTE4i4cvkeO",
        "outputId": "c4cefd32-42f1-47bf-e9cb-288ccf70cc8e"
      },
      "source": [
        "all_filename[:5]"
      ],
      "execution_count": 8,
      "outputs": [
        {
          "output_type": "execute_result",
          "data": {
            "text/plain": [
              "['546-1-2-25-Z134_C-0000005.jpg',\n",
              " '546-1-2-25-Z134_C-0000017.jpg',\n",
              " '546-1-2-25-Z134_C-0000021.jpg',\n",
              " '546-1-2-25-Z134_D-0000007.jpg',\n",
              " '546-1-2-25-Z134_D-0000021.jpg']"
            ]
          },
          "metadata": {
            "tags": []
          },
          "execution_count": 8
        }
      ]
    },
    {
      "cell_type": "code",
      "metadata": {
        "colab": {
          "base_uri": "https://localhost:8080/"
        },
        "id": "U1p5LGoDLxdv",
        "outputId": "23190057-2171-4b13-951c-3fe019e53201"
      },
      "source": [
        "train_all = glob.glob('train_imgs/*.jpg')\r\n",
        "len(train_all)"
      ],
      "execution_count": 9,
      "outputs": [
        {
          "output_type": "execute_result",
          "data": {
            "text/plain": [
              "4195"
            ]
          },
          "metadata": {
            "tags": []
          },
          "execution_count": 9
        }
      ]
    },
    {
      "cell_type": "code",
      "metadata": {
        "id": "qOvr2nz0LZMN"
      },
      "source": [
        "valid_filename = random.sample(all_filename, int(len(train_all) * 0.1))\r\n",
        "train_filename = [x for x in all_filename if x not in valid_filename]"
      ],
      "execution_count": 10,
      "outputs": []
    },
    {
      "cell_type": "code",
      "metadata": {
        "colab": {
          "base_uri": "https://localhost:8080/"
        },
        "id": "nV9P87TCLaPY",
        "outputId": "ee72e350-abe0-4f5b-b867-2e2d525f3801"
      },
      "source": [
        "print(len(train_filename), len(valid_filename))"
      ],
      "execution_count": 11,
      "outputs": [
        {
          "output_type": "stream",
          "text": [
            "3776 419\n"
          ],
          "name": "stdout"
        }
      ]
    },
    {
      "cell_type": "code",
      "metadata": {
        "id": "r0DM2VuuMM7z"
      },
      "source": [
        "train_filename = [src+'/'+ name for name in train_filename]\r\n",
        "valid_filename = [src+'/' + name for name in valid_filename]\r\n"
      ],
      "execution_count": 12,
      "outputs": []
    },
    {
      "cell_type": "code",
      "metadata": {
        "colab": {
          "base_uri": "https://localhost:8080/"
        },
        "id": "_8I8EO7CMQau",
        "outputId": "5653f9b4-63bb-49a9-e5eb-b7dcff6ee5f2"
      },
      "source": [
        "train_filename[:3]"
      ],
      "execution_count": 13,
      "outputs": [
        {
          "output_type": "execute_result",
          "data": {
            "text/plain": [
              "['train_imgs/546-1-2-25-Z134_C-0000005.jpg',\n",
              " 'train_imgs/546-1-2-25-Z134_C-0000017.jpg',\n",
              " 'train_imgs/546-1-2-25-Z134_C-0000021.jpg']"
            ]
          },
          "metadata": {
            "tags": []
          },
          "execution_count": 13
        }
      ]
    },
    {
      "cell_type": "code",
      "metadata": {
        "colab": {
          "base_uri": "https://localhost:8080/"
        },
        "id": "anX5ayQdMSzQ",
        "outputId": "ecc68fc2-479e-4216-fc26-a7350956da53"
      },
      "source": [
        "valid_filename[:3]"
      ],
      "execution_count": 14,
      "outputs": [
        {
          "output_type": "execute_result",
          "data": {
            "text/plain": [
              "['train_imgs/329-2-1-16-Z57_A-0000019.jpg',\n",
              " 'train_imgs/594-1-3-28-Z134_E-0000029.jpg',\n",
              " 'train_imgs/194-2-1-09-Z36_D-0000003.jpg']"
            ]
          },
          "metadata": {
            "tags": []
          },
          "execution_count": 14
        }
      ]
    },
    {
      "cell_type": "code",
      "metadata": {
        "colab": {
          "base_uri": "https://localhost:8080/"
        },
        "id": "UDh9ibKWMyoL",
        "outputId": "d1ebea6c-3009-4e32-e1cb-bd88027f0912"
      },
      "source": [
        "print('Total images: ', len(all_filename))\r\n",
        "print('Training: ', len(train_filename))\r\n",
        "print('Validation: ', len(valid_filename))"
      ],
      "execution_count": 15,
      "outputs": [
        {
          "output_type": "stream",
          "text": [
            "Total images:  4195\n",
            "Training:  3776\n",
            "Validation:  419\n"
          ],
          "name": "stdout"
        }
      ]
    },
    {
      "cell_type": "code",
      "metadata": {
        "colab": {
          "base_uri": "https://localhost:8080/"
        },
        "id": "QCr-XwxoM9Bj",
        "outputId": "4cab02d1-26b5-4b81-fc73-1250f2b47077"
      },
      "source": [
        "# copy & paste images ('./train' 과 './val'에 복사 붙여넣기)\r\n",
        "for name in tqdm(train_filename):\r\n",
        "    shutil.copy(name, 'train')\r\n",
        "\r\n",
        "for name in tqdm(valid_filename):\r\n",
        "    shutil.copy(name, 'val')"
      ],
      "execution_count": null,
      "outputs": [
        {
          "output_type": "stream",
          "text": [
            "100%|██████████| 3776/3776 [15:23<00:00,  4.09it/s]\n",
            "100%|██████████| 419/419 [01:45<00:00,  3.98it/s]\n"
          ],
          "name": "stderr"
        }
      ]
    },
    {
      "cell_type": "code",
      "metadata": {
        "id": "lhk-QkcvM_be"
      },
      "source": [
        "# train, valid folder 속 모든 이미지 파일 read & sort\r\n",
        "train_paths = glob.glob('./train/*.jpg')\r\n",
        "valid_paths = glob.glob('./val/*.jpg')\r\n",
        "train_paths.sort()\r\n",
        "valid_paths.sort()"
      ],
      "execution_count": 16,
      "outputs": []
    },
    {
      "cell_type": "code",
      "metadata": {
        "colab": {
          "base_uri": "https://localhost:8080/"
        },
        "id": "WW--MgLiQyMs",
        "outputId": "97c7773a-ee0c-4add-cb82-4e4310729e03"
      },
      "source": [
        "train_paths[:5]"
      ],
      "execution_count": 17,
      "outputs": [
        {
          "output_type": "execute_result",
          "data": {
            "text/plain": [
              "['./train/001-1-1-01-Z17_A-0000001.jpg',\n",
              " './train/001-1-1-01-Z17_A-0000003.jpg',\n",
              " './train/001-1-1-01-Z17_A-0000005.jpg',\n",
              " './train/001-1-1-01-Z17_A-0000007.jpg',\n",
              " './train/001-1-1-01-Z17_A-0000009.jpg']"
            ]
          },
          "metadata": {
            "tags": []
          },
          "execution_count": 17
        }
      ]
    },
    {
      "cell_type": "code",
      "metadata": {
        "colab": {
          "base_uri": "https://localhost:8080/"
        },
        "id": "e_IgbRWpQy0T",
        "outputId": "66e3505c-4381-4ac0-ecba-312a18ed1904"
      },
      "source": [
        "valid_paths[:5]"
      ],
      "execution_count": 18,
      "outputs": [
        {
          "output_type": "execute_result",
          "data": {
            "text/plain": [
              "['./val/001-1-1-01-Z17_A-0000019.jpg',\n",
              " './val/001-1-1-01-Z17_A-0000021.jpg',\n",
              " './val/001-1-1-01-Z17_D-0000005.jpg',\n",
              " './val/001-1-1-01-Z17_D-0000019.jpg',\n",
              " './val/001-1-1-01-Z17_E-0000009.jpg']"
            ]
          },
          "metadata": {
            "tags": []
          },
          "execution_count": 18
        }
      ]
    },
    {
      "cell_type": "code",
      "metadata": {
        "colab": {
          "base_uri": "https://localhost:8080/"
        },
        "id": "4acIfCTbQ1hj",
        "outputId": "f6c9ddb8-05bb-4a73-c04c-c57fd0b9138f"
      },
      "source": [
        "train_filename_ = []\r\n",
        "valid_filename_ = []\r\n",
        "\r\n",
        "for t_paths in tqdm(train_paths):\r\n",
        "    filename = t_paths.split('/')[-1]\r\n",
        "    train_filename_.append(filename)\r\n",
        "\r\n",
        "for v_paths in tqdm(valid_paths):\r\n",
        "    filename = v_paths.split('/')[-1]\r\n",
        "    valid_filename_.append(filename)"
      ],
      "execution_count": 19,
      "outputs": [
        {
          "output_type": "stream",
          "text": [
            "100%|██████████| 3776/3776 [00:00<00:00, 764146.09it/s]\n",
            "100%|██████████| 419/419 [00:00<00:00, 201008.05it/s]\n"
          ],
          "name": "stderr"
        }
      ]
    },
    {
      "cell_type": "code",
      "metadata": {
        "colab": {
          "base_uri": "https://localhost:8080/"
        },
        "id": "7GhfFUReRSzz",
        "outputId": "fa89aeb3-1c8a-4d2d-9bce-8c5aa6dcaaa5"
      },
      "source": [
        "print(train_filename_[:5])\r\n",
        "print(valid_filename_[:5])"
      ],
      "execution_count": 20,
      "outputs": [
        {
          "output_type": "stream",
          "text": [
            "['001-1-1-01-Z17_A-0000001.jpg', '001-1-1-01-Z17_A-0000003.jpg', '001-1-1-01-Z17_A-0000005.jpg', '001-1-1-01-Z17_A-0000007.jpg', '001-1-1-01-Z17_A-0000009.jpg']\n",
            "['001-1-1-01-Z17_A-0000019.jpg', '001-1-1-01-Z17_A-0000021.jpg', '001-1-1-01-Z17_D-0000005.jpg', '001-1-1-01-Z17_D-0000019.jpg', '001-1-1-01-Z17_E-0000009.jpg']\n"
          ],
          "name": "stdout"
        }
      ]
    },
    {
      "cell_type": "code",
      "metadata": {
        "id": "ZZoR8yfFTfBn"
      },
      "source": [
        "# train_df.csv\r\n",
        "train = pd.read_csv('train_df.csv')"
      ],
      "execution_count": 21,
      "outputs": []
    },
    {
      "cell_type": "code",
      "metadata": {
        "colab": {
          "base_uri": "https://localhost:8080/",
          "height": 257
        },
        "id": "f9pH1hgYTrBE",
        "outputId": "c70b7315-1eae-4d39-a2dd-67437860c436"
      },
      "source": [
        "train.head(3)"
      ],
      "execution_count": 22,
      "outputs": [
        {
          "output_type": "execute_result",
          "data": {
            "text/html": [
              "<div>\n",
              "<style scoped>\n",
              "    .dataframe tbody tr th:only-of-type {\n",
              "        vertical-align: middle;\n",
              "    }\n",
              "\n",
              "    .dataframe tbody tr th {\n",
              "        vertical-align: top;\n",
              "    }\n",
              "\n",
              "    .dataframe thead th {\n",
              "        text-align: right;\n",
              "    }\n",
              "</style>\n",
              "<table border=\"1\" class=\"dataframe\">\n",
              "  <thead>\n",
              "    <tr style=\"text-align: right;\">\n",
              "      <th></th>\n",
              "      <th>image</th>\n",
              "      <th>nose_x</th>\n",
              "      <th>nose_y</th>\n",
              "      <th>left_eye_x</th>\n",
              "      <th>left_eye_y</th>\n",
              "      <th>right_eye_x</th>\n",
              "      <th>right_eye_y</th>\n",
              "      <th>left_ear_x</th>\n",
              "      <th>left_ear_y</th>\n",
              "      <th>right_ear_x</th>\n",
              "      <th>right_ear_y</th>\n",
              "      <th>left_shoulder_x</th>\n",
              "      <th>left_shoulder_y</th>\n",
              "      <th>right_shoulder_x</th>\n",
              "      <th>right_shoulder_y</th>\n",
              "      <th>left_elbow_x</th>\n",
              "      <th>left_elbow_y</th>\n",
              "      <th>right_elbow_x</th>\n",
              "      <th>right_elbow_y</th>\n",
              "      <th>left_wrist_x</th>\n",
              "      <th>left_wrist_y</th>\n",
              "      <th>right_wrist_x</th>\n",
              "      <th>right_wrist_y</th>\n",
              "      <th>left_hip_x</th>\n",
              "      <th>left_hip_y</th>\n",
              "      <th>right_hip_x</th>\n",
              "      <th>right_hip_y</th>\n",
              "      <th>left_knee_x</th>\n",
              "      <th>left_knee_y</th>\n",
              "      <th>right_knee_x</th>\n",
              "      <th>right_knee_y</th>\n",
              "      <th>left_ankle_x</th>\n",
              "      <th>left_ankle_y</th>\n",
              "      <th>right_ankle_x</th>\n",
              "      <th>right_ankle_y</th>\n",
              "      <th>neck_x</th>\n",
              "      <th>neck_y</th>\n",
              "      <th>left_palm_x</th>\n",
              "      <th>left_palm_y</th>\n",
              "      <th>right_palm_x</th>\n",
              "      <th>right_palm_y</th>\n",
              "      <th>spine2(back)_x</th>\n",
              "      <th>spine2(back)_y</th>\n",
              "      <th>spine1(waist)_x</th>\n",
              "      <th>spine1(waist)_y</th>\n",
              "      <th>left_instep_x</th>\n",
              "      <th>left_instep_y</th>\n",
              "      <th>right_instep_x</th>\n",
              "      <th>right_instep_y</th>\n",
              "    </tr>\n",
              "  </thead>\n",
              "  <tbody>\n",
              "    <tr>\n",
              "      <th>0</th>\n",
              "      <td>001-1-1-01-Z17_A-0000001.jpg</td>\n",
              "      <td>1046.389631</td>\n",
              "      <td>344.757881</td>\n",
              "      <td>1041.655294</td>\n",
              "      <td>329.820225</td>\n",
              "      <td>1059.429507</td>\n",
              "      <td>334.484230</td>\n",
              "      <td>1020.117796</td>\n",
              "      <td>338.890539</td>\n",
              "      <td>1048.000000</td>\n",
              "      <td>343.000000</td>\n",
              "      <td>992.0</td>\n",
              "      <td>394.0</td>\n",
              "      <td>1054.0</td>\n",
              "      <td>400.0</td>\n",
              "      <td>956.0</td>\n",
              "      <td>368.0</td>\n",
              "      <td>1134.0</td>\n",
              "      <td>371.0</td>\n",
              "      <td>1003.497242</td>\n",
              "      <td>327.640085</td>\n",
              "      <td>1078.0</td>\n",
              "      <td>341.0</td>\n",
              "      <td>999.0</td>\n",
              "      <td>570.0</td>\n",
              "      <td>1046.0</td>\n",
              "      <td>573.0</td>\n",
              "      <td>995.0</td>\n",
              "      <td>695.0</td>\n",
              "      <td>1054.0</td>\n",
              "      <td>698.0</td>\n",
              "      <td>983.000000</td>\n",
              "      <td>820.000000</td>\n",
              "      <td>1042.0</td>\n",
              "      <td>829.0</td>\n",
              "      <td>1019.107277</td>\n",
              "      <td>373.766222</td>\n",
              "      <td>1013.137360</td>\n",
              "      <td>316.311695</td>\n",
              "      <td>1067.00000</td>\n",
              "      <td>335.0</td>\n",
              "      <td>1019.484230</td>\n",
              "      <td>455.000000</td>\n",
              "      <td>1026.515770</td>\n",
              "      <td>514.054730</td>\n",
              "      <td>998.578836</td>\n",
              "      <td>826.718013</td>\n",
              "      <td>1063.204067</td>\n",
              "      <td>838.827465</td>\n",
              "    </tr>\n",
              "    <tr>\n",
              "      <th>1</th>\n",
              "      <td>001-1-1-01-Z17_A-0000003.jpg</td>\n",
              "      <td>1069.850679</td>\n",
              "      <td>340.711494</td>\n",
              "      <td>1058.608552</td>\n",
              "      <td>324.593690</td>\n",
              "      <td>1075.242111</td>\n",
              "      <td>325.593690</td>\n",
              "      <td>1041.422997</td>\n",
              "      <td>331.694815</td>\n",
              "      <td>1065.593682</td>\n",
              "      <td>333.968459</td>\n",
              "      <td>1010.0</td>\n",
              "      <td>398.0</td>\n",
              "      <td>1077.0</td>\n",
              "      <td>386.0</td>\n",
              "      <td>974.0</td>\n",
              "      <td>398.0</td>\n",
              "      <td>1144.0</td>\n",
              "      <td>337.0</td>\n",
              "      <td>1004.000000</td>\n",
              "      <td>346.000000</td>\n",
              "      <td>1094.0</td>\n",
              "      <td>326.0</td>\n",
              "      <td>1020.0</td>\n",
              "      <td>557.0</td>\n",
              "      <td>1069.0</td>\n",
              "      <td>567.0</td>\n",
              "      <td>1013.0</td>\n",
              "      <td>583.0</td>\n",
              "      <td>1072.0</td>\n",
              "      <td>697.0</td>\n",
              "      <td>1003.843781</td>\n",
              "      <td>678.797029</td>\n",
              "      <td>1042.0</td>\n",
              "      <td>829.0</td>\n",
              "      <td>1047.279440</td>\n",
              "      <td>362.031898</td>\n",
              "      <td>1017.383112</td>\n",
              "      <td>332.890539</td>\n",
              "      <td>1081.18738</td>\n",
              "      <td>323.0</td>\n",
              "      <td>1046.953248</td>\n",
              "      <td>454.062706</td>\n",
              "      <td>1058.766231</td>\n",
              "      <td>508.797029</td>\n",
              "      <td>1002.265676</td>\n",
              "      <td>699.062706</td>\n",
              "      <td>1066.376234</td>\n",
              "      <td>841.499445</td>\n",
              "    </tr>\n",
              "    <tr>\n",
              "      <th>2</th>\n",
              "      <td>001-1-1-01-Z17_A-0000005.jpg</td>\n",
              "      <td>1084.475902</td>\n",
              "      <td>337.000008</td>\n",
              "      <td>1078.717997</td>\n",
              "      <td>323.757889</td>\n",
              "      <td>1095.648412</td>\n",
              "      <td>325.242119</td>\n",
              "      <td>1061.039884</td>\n",
              "      <td>329.351571</td>\n",
              "      <td>1086.461032</td>\n",
              "      <td>334.109461</td>\n",
              "      <td>1020.0</td>\n",
              "      <td>381.0</td>\n",
              "      <td>1083.0</td>\n",
              "      <td>389.0</td>\n",
              "      <td>984.0</td>\n",
              "      <td>362.0</td>\n",
              "      <td>1163.0</td>\n",
              "      <td>372.0</td>\n",
              "      <td>1027.507419</td>\n",
              "      <td>327.383120</td>\n",
              "      <td>1111.0</td>\n",
              "      <td>340.0</td>\n",
              "      <td>1016.0</td>\n",
              "      <td>552.0</td>\n",
              "      <td>1061.0</td>\n",
              "      <td>556.0</td>\n",
              "      <td>1018.0</td>\n",
              "      <td>674.0</td>\n",
              "      <td>1070.0</td>\n",
              "      <td>696.0</td>\n",
              "      <td>987.703151</td>\n",
              "      <td>788.867342</td>\n",
              "      <td>1044.0</td>\n",
              "      <td>826.0</td>\n",
              "      <td>1063.029716</td>\n",
              "      <td>358.679953</td>\n",
              "      <td>1042.374777</td>\n",
              "      <td>319.031541</td>\n",
              "      <td>1101.00000</td>\n",
              "      <td>334.0</td>\n",
              "      <td>1044.538960</td>\n",
              "      <td>442.054730</td>\n",
              "      <td>1052.844144</td>\n",
              "      <td>495.890539</td>\n",
              "      <td>989.437847</td>\n",
              "      <td>808.757889</td>\n",
              "      <td>1066.071417</td>\n",
              "      <td>841.749554</td>\n",
              "    </tr>\n",
              "  </tbody>\n",
              "</table>\n",
              "</div>"
            ],
            "text/plain": [
              "                          image       nose_x  ...  right_instep_x  right_instep_y\n",
              "0  001-1-1-01-Z17_A-0000001.jpg  1046.389631  ...     1063.204067      838.827465\n",
              "1  001-1-1-01-Z17_A-0000003.jpg  1069.850679  ...     1066.376234      841.499445\n",
              "2  001-1-1-01-Z17_A-0000005.jpg  1084.475902  ...     1066.071417      841.749554\n",
              "\n",
              "[3 rows x 49 columns]"
            ]
          },
          "metadata": {
            "tags": []
          },
          "execution_count": 22
        }
      ]
    },
    {
      "cell_type": "code",
      "metadata": {
        "id": "p1TgDIyURW_D"
      },
      "source": [
        "# 각각의 train, valid 이미지들의 정보만을 담고 있는 DataFrame 생성\r\n",
        "train_df = train[train['image'].isin(train_filename_)]\r\n",
        "train_df.reset_index(inplace=True, drop=True)\r\n",
        "\r\n",
        "valid_df = train[train['image'].isin(valid_filename_)]\r\n",
        "valid_df.reset_index(inplace=True, drop=True)\r\n",
        "\r\n",
        "train_df.to_csv('train.csv', index=False)\r\n",
        "valid_df.to_csv('valid.csv', index=False)"
      ],
      "execution_count": 23,
      "outputs": []
    },
    {
      "cell_type": "code",
      "metadata": {
        "colab": {
          "base_uri": "https://localhost:8080/",
          "height": 257
        },
        "id": "ZIla1ntoRuDN",
        "outputId": "126f6f9a-067a-403b-dd29-f86b2cedfff9"
      },
      "source": [
        "train_df.head(3)"
      ],
      "execution_count": 24,
      "outputs": [
        {
          "output_type": "execute_result",
          "data": {
            "text/html": [
              "<div>\n",
              "<style scoped>\n",
              "    .dataframe tbody tr th:only-of-type {\n",
              "        vertical-align: middle;\n",
              "    }\n",
              "\n",
              "    .dataframe tbody tr th {\n",
              "        vertical-align: top;\n",
              "    }\n",
              "\n",
              "    .dataframe thead th {\n",
              "        text-align: right;\n",
              "    }\n",
              "</style>\n",
              "<table border=\"1\" class=\"dataframe\">\n",
              "  <thead>\n",
              "    <tr style=\"text-align: right;\">\n",
              "      <th></th>\n",
              "      <th>image</th>\n",
              "      <th>nose_x</th>\n",
              "      <th>nose_y</th>\n",
              "      <th>left_eye_x</th>\n",
              "      <th>left_eye_y</th>\n",
              "      <th>right_eye_x</th>\n",
              "      <th>right_eye_y</th>\n",
              "      <th>left_ear_x</th>\n",
              "      <th>left_ear_y</th>\n",
              "      <th>right_ear_x</th>\n",
              "      <th>right_ear_y</th>\n",
              "      <th>left_shoulder_x</th>\n",
              "      <th>left_shoulder_y</th>\n",
              "      <th>right_shoulder_x</th>\n",
              "      <th>right_shoulder_y</th>\n",
              "      <th>left_elbow_x</th>\n",
              "      <th>left_elbow_y</th>\n",
              "      <th>right_elbow_x</th>\n",
              "      <th>right_elbow_y</th>\n",
              "      <th>left_wrist_x</th>\n",
              "      <th>left_wrist_y</th>\n",
              "      <th>right_wrist_x</th>\n",
              "      <th>right_wrist_y</th>\n",
              "      <th>left_hip_x</th>\n",
              "      <th>left_hip_y</th>\n",
              "      <th>right_hip_x</th>\n",
              "      <th>right_hip_y</th>\n",
              "      <th>left_knee_x</th>\n",
              "      <th>left_knee_y</th>\n",
              "      <th>right_knee_x</th>\n",
              "      <th>right_knee_y</th>\n",
              "      <th>left_ankle_x</th>\n",
              "      <th>left_ankle_y</th>\n",
              "      <th>right_ankle_x</th>\n",
              "      <th>right_ankle_y</th>\n",
              "      <th>neck_x</th>\n",
              "      <th>neck_y</th>\n",
              "      <th>left_palm_x</th>\n",
              "      <th>left_palm_y</th>\n",
              "      <th>right_palm_x</th>\n",
              "      <th>right_palm_y</th>\n",
              "      <th>spine2(back)_x</th>\n",
              "      <th>spine2(back)_y</th>\n",
              "      <th>spine1(waist)_x</th>\n",
              "      <th>spine1(waist)_y</th>\n",
              "      <th>left_instep_x</th>\n",
              "      <th>left_instep_y</th>\n",
              "      <th>right_instep_x</th>\n",
              "      <th>right_instep_y</th>\n",
              "    </tr>\n",
              "  </thead>\n",
              "  <tbody>\n",
              "    <tr>\n",
              "      <th>0</th>\n",
              "      <td>001-1-1-01-Z17_A-0000001.jpg</td>\n",
              "      <td>1046.389631</td>\n",
              "      <td>344.757881</td>\n",
              "      <td>1041.655294</td>\n",
              "      <td>329.820225</td>\n",
              "      <td>1059.429507</td>\n",
              "      <td>334.484230</td>\n",
              "      <td>1020.117796</td>\n",
              "      <td>338.890539</td>\n",
              "      <td>1048.000000</td>\n",
              "      <td>343.000000</td>\n",
              "      <td>992.0</td>\n",
              "      <td>394.0</td>\n",
              "      <td>1054.0</td>\n",
              "      <td>400.0</td>\n",
              "      <td>956.0</td>\n",
              "      <td>368.0</td>\n",
              "      <td>1134.0</td>\n",
              "      <td>371.0</td>\n",
              "      <td>1003.497242</td>\n",
              "      <td>327.640085</td>\n",
              "      <td>1078.0</td>\n",
              "      <td>341.0</td>\n",
              "      <td>999.0</td>\n",
              "      <td>570.0</td>\n",
              "      <td>1046.0</td>\n",
              "      <td>573.0</td>\n",
              "      <td>995.0</td>\n",
              "      <td>695.0</td>\n",
              "      <td>1054.0</td>\n",
              "      <td>698.0</td>\n",
              "      <td>983.000000</td>\n",
              "      <td>820.000000</td>\n",
              "      <td>1042.0</td>\n",
              "      <td>829.0</td>\n",
              "      <td>1019.107277</td>\n",
              "      <td>373.766222</td>\n",
              "      <td>1013.137360</td>\n",
              "      <td>316.311695</td>\n",
              "      <td>1067.00000</td>\n",
              "      <td>335.0</td>\n",
              "      <td>1019.484230</td>\n",
              "      <td>455.000000</td>\n",
              "      <td>1026.515770</td>\n",
              "      <td>514.054730</td>\n",
              "      <td>998.578836</td>\n",
              "      <td>826.718013</td>\n",
              "      <td>1063.204067</td>\n",
              "      <td>838.827465</td>\n",
              "    </tr>\n",
              "    <tr>\n",
              "      <th>1</th>\n",
              "      <td>001-1-1-01-Z17_A-0000003.jpg</td>\n",
              "      <td>1069.850679</td>\n",
              "      <td>340.711494</td>\n",
              "      <td>1058.608552</td>\n",
              "      <td>324.593690</td>\n",
              "      <td>1075.242111</td>\n",
              "      <td>325.593690</td>\n",
              "      <td>1041.422997</td>\n",
              "      <td>331.694815</td>\n",
              "      <td>1065.593682</td>\n",
              "      <td>333.968459</td>\n",
              "      <td>1010.0</td>\n",
              "      <td>398.0</td>\n",
              "      <td>1077.0</td>\n",
              "      <td>386.0</td>\n",
              "      <td>974.0</td>\n",
              "      <td>398.0</td>\n",
              "      <td>1144.0</td>\n",
              "      <td>337.0</td>\n",
              "      <td>1004.000000</td>\n",
              "      <td>346.000000</td>\n",
              "      <td>1094.0</td>\n",
              "      <td>326.0</td>\n",
              "      <td>1020.0</td>\n",
              "      <td>557.0</td>\n",
              "      <td>1069.0</td>\n",
              "      <td>567.0</td>\n",
              "      <td>1013.0</td>\n",
              "      <td>583.0</td>\n",
              "      <td>1072.0</td>\n",
              "      <td>697.0</td>\n",
              "      <td>1003.843781</td>\n",
              "      <td>678.797029</td>\n",
              "      <td>1042.0</td>\n",
              "      <td>829.0</td>\n",
              "      <td>1047.279440</td>\n",
              "      <td>362.031898</td>\n",
              "      <td>1017.383112</td>\n",
              "      <td>332.890539</td>\n",
              "      <td>1081.18738</td>\n",
              "      <td>323.0</td>\n",
              "      <td>1046.953248</td>\n",
              "      <td>454.062706</td>\n",
              "      <td>1058.766231</td>\n",
              "      <td>508.797029</td>\n",
              "      <td>1002.265676</td>\n",
              "      <td>699.062706</td>\n",
              "      <td>1066.376234</td>\n",
              "      <td>841.499445</td>\n",
              "    </tr>\n",
              "    <tr>\n",
              "      <th>2</th>\n",
              "      <td>001-1-1-01-Z17_A-0000005.jpg</td>\n",
              "      <td>1084.475902</td>\n",
              "      <td>337.000008</td>\n",
              "      <td>1078.717997</td>\n",
              "      <td>323.757889</td>\n",
              "      <td>1095.648412</td>\n",
              "      <td>325.242119</td>\n",
              "      <td>1061.039884</td>\n",
              "      <td>329.351571</td>\n",
              "      <td>1086.461032</td>\n",
              "      <td>334.109461</td>\n",
              "      <td>1020.0</td>\n",
              "      <td>381.0</td>\n",
              "      <td>1083.0</td>\n",
              "      <td>389.0</td>\n",
              "      <td>984.0</td>\n",
              "      <td>362.0</td>\n",
              "      <td>1163.0</td>\n",
              "      <td>372.0</td>\n",
              "      <td>1027.507419</td>\n",
              "      <td>327.383120</td>\n",
              "      <td>1111.0</td>\n",
              "      <td>340.0</td>\n",
              "      <td>1016.0</td>\n",
              "      <td>552.0</td>\n",
              "      <td>1061.0</td>\n",
              "      <td>556.0</td>\n",
              "      <td>1018.0</td>\n",
              "      <td>674.0</td>\n",
              "      <td>1070.0</td>\n",
              "      <td>696.0</td>\n",
              "      <td>987.703151</td>\n",
              "      <td>788.867342</td>\n",
              "      <td>1044.0</td>\n",
              "      <td>826.0</td>\n",
              "      <td>1063.029716</td>\n",
              "      <td>358.679953</td>\n",
              "      <td>1042.374777</td>\n",
              "      <td>319.031541</td>\n",
              "      <td>1101.00000</td>\n",
              "      <td>334.0</td>\n",
              "      <td>1044.538960</td>\n",
              "      <td>442.054730</td>\n",
              "      <td>1052.844144</td>\n",
              "      <td>495.890539</td>\n",
              "      <td>989.437847</td>\n",
              "      <td>808.757889</td>\n",
              "      <td>1066.071417</td>\n",
              "      <td>841.749554</td>\n",
              "    </tr>\n",
              "  </tbody>\n",
              "</table>\n",
              "</div>"
            ],
            "text/plain": [
              "                          image       nose_x  ...  right_instep_x  right_instep_y\n",
              "0  001-1-1-01-Z17_A-0000001.jpg  1046.389631  ...     1063.204067      838.827465\n",
              "1  001-1-1-01-Z17_A-0000003.jpg  1069.850679  ...     1066.376234      841.499445\n",
              "2  001-1-1-01-Z17_A-0000005.jpg  1084.475902  ...     1066.071417      841.749554\n",
              "\n",
              "[3 rows x 49 columns]"
            ]
          },
          "metadata": {
            "tags": []
          },
          "execution_count": 24
        }
      ]
    },
    {
      "cell_type": "code",
      "metadata": {
        "colab": {
          "base_uri": "https://localhost:8080/",
          "height": 257
        },
        "id": "oBaY40NtT1aG",
        "outputId": "38ee246d-b6b1-4404-b589-00afac50f9d4"
      },
      "source": [
        "valid_df.head(3)"
      ],
      "execution_count": 25,
      "outputs": [
        {
          "output_type": "execute_result",
          "data": {
            "text/html": [
              "<div>\n",
              "<style scoped>\n",
              "    .dataframe tbody tr th:only-of-type {\n",
              "        vertical-align: middle;\n",
              "    }\n",
              "\n",
              "    .dataframe tbody tr th {\n",
              "        vertical-align: top;\n",
              "    }\n",
              "\n",
              "    .dataframe thead th {\n",
              "        text-align: right;\n",
              "    }\n",
              "</style>\n",
              "<table border=\"1\" class=\"dataframe\">\n",
              "  <thead>\n",
              "    <tr style=\"text-align: right;\">\n",
              "      <th></th>\n",
              "      <th>image</th>\n",
              "      <th>nose_x</th>\n",
              "      <th>nose_y</th>\n",
              "      <th>left_eye_x</th>\n",
              "      <th>left_eye_y</th>\n",
              "      <th>right_eye_x</th>\n",
              "      <th>right_eye_y</th>\n",
              "      <th>left_ear_x</th>\n",
              "      <th>left_ear_y</th>\n",
              "      <th>right_ear_x</th>\n",
              "      <th>right_ear_y</th>\n",
              "      <th>left_shoulder_x</th>\n",
              "      <th>left_shoulder_y</th>\n",
              "      <th>right_shoulder_x</th>\n",
              "      <th>right_shoulder_y</th>\n",
              "      <th>left_elbow_x</th>\n",
              "      <th>left_elbow_y</th>\n",
              "      <th>right_elbow_x</th>\n",
              "      <th>right_elbow_y</th>\n",
              "      <th>left_wrist_x</th>\n",
              "      <th>left_wrist_y</th>\n",
              "      <th>right_wrist_x</th>\n",
              "      <th>right_wrist_y</th>\n",
              "      <th>left_hip_x</th>\n",
              "      <th>left_hip_y</th>\n",
              "      <th>right_hip_x</th>\n",
              "      <th>right_hip_y</th>\n",
              "      <th>left_knee_x</th>\n",
              "      <th>left_knee_y</th>\n",
              "      <th>right_knee_x</th>\n",
              "      <th>right_knee_y</th>\n",
              "      <th>left_ankle_x</th>\n",
              "      <th>left_ankle_y</th>\n",
              "      <th>right_ankle_x</th>\n",
              "      <th>right_ankle_y</th>\n",
              "      <th>neck_x</th>\n",
              "      <th>neck_y</th>\n",
              "      <th>left_palm_x</th>\n",
              "      <th>left_palm_y</th>\n",
              "      <th>right_palm_x</th>\n",
              "      <th>right_palm_y</th>\n",
              "      <th>spine2(back)_x</th>\n",
              "      <th>spine2(back)_y</th>\n",
              "      <th>spine1(waist)_x</th>\n",
              "      <th>spine1(waist)_y</th>\n",
              "      <th>left_instep_x</th>\n",
              "      <th>left_instep_y</th>\n",
              "      <th>right_instep_x</th>\n",
              "      <th>right_instep_y</th>\n",
              "    </tr>\n",
              "  </thead>\n",
              "  <tbody>\n",
              "    <tr>\n",
              "      <th>0</th>\n",
              "      <td>001-1-1-01-Z17_A-0000019.jpg</td>\n",
              "      <td>1065.179061</td>\n",
              "      <td>358.343236</td>\n",
              "      <td>1061.829299</td>\n",
              "      <td>345.711494</td>\n",
              "      <td>1079.242111</td>\n",
              "      <td>354.484230</td>\n",
              "      <td>1046.766225</td>\n",
              "      <td>349.242119</td>\n",
              "      <td>1074.000000</td>\n",
              "      <td>361.000000</td>\n",
              "      <td>988.0</td>\n",
              "      <td>393.0</td>\n",
              "      <td>1053.593698</td>\n",
              "      <td>421.602042</td>\n",
              "      <td>955.0</td>\n",
              "      <td>337.0</td>\n",
              "      <td>1134.890539</td>\n",
              "      <td>447.351588</td>\n",
              "      <td>998.296841</td>\n",
              "      <td>330.296841</td>\n",
              "      <td>1102.0</td>\n",
              "      <td>390.000000</td>\n",
              "      <td>977.0</td>\n",
              "      <td>564.0</td>\n",
              "      <td>1013.0</td>\n",
              "      <td>557.0</td>\n",
              "      <td>1005.0</td>\n",
              "      <td>693.0</td>\n",
              "      <td>1154.0</td>\n",
              "      <td>573.0</td>\n",
              "      <td>1012.867334</td>\n",
              "      <td>814.538960</td>\n",
              "      <td>1128.543898</td>\n",
              "      <td>689.481188</td>\n",
              "      <td>1040.498339</td>\n",
              "      <td>378.495250</td>\n",
              "      <td>1006.242119</td>\n",
              "      <td>333.515762</td>\n",
              "      <td>1090.781079</td>\n",
              "      <td>378.000000</td>\n",
              "      <td>1001.355781</td>\n",
              "      <td>455.518812</td>\n",
              "      <td>1006.025086</td>\n",
              "      <td>505.481188</td>\n",
              "      <td>1021.602034</td>\n",
              "      <td>827.936934</td>\n",
              "      <td>1146.844885</td>\n",
              "      <td>715.518800</td>\n",
              "    </tr>\n",
              "    <tr>\n",
              "      <th>1</th>\n",
              "      <td>001-1-1-01-Z17_A-0000021.jpg</td>\n",
              "      <td>1056.522273</td>\n",
              "      <td>338.351579</td>\n",
              "      <td>1049.189222</td>\n",
              "      <td>327.155856</td>\n",
              "      <td>1065.694823</td>\n",
              "      <td>326.648437</td>\n",
              "      <td>1032.524106</td>\n",
              "      <td>332.265324</td>\n",
              "      <td>1066.000000</td>\n",
              "      <td>338.000000</td>\n",
              "      <td>1006.0</td>\n",
              "      <td>402.0</td>\n",
              "      <td>1076.000000</td>\n",
              "      <td>400.000000</td>\n",
              "      <td>955.0</td>\n",
              "      <td>373.0</td>\n",
              "      <td>1160.000000</td>\n",
              "      <td>377.000000</td>\n",
              "      <td>987.507427</td>\n",
              "      <td>344.570501</td>\n",
              "      <td>1109.0</td>\n",
              "      <td>344.187388</td>\n",
              "      <td>1025.0</td>\n",
              "      <td>577.0</td>\n",
              "      <td>1076.0</td>\n",
              "      <td>579.0</td>\n",
              "      <td>1019.0</td>\n",
              "      <td>698.0</td>\n",
              "      <td>1073.0</td>\n",
              "      <td>704.0</td>\n",
              "      <td>1011.757881</td>\n",
              "      <td>812.562157</td>\n",
              "      <td>1072.000000</td>\n",
              "      <td>825.000000</td>\n",
              "      <td>1046.678128</td>\n",
              "      <td>366.492573</td>\n",
              "      <td>996.507427</td>\n",
              "      <td>342.492573</td>\n",
              "      <td>1095.132650</td>\n",
              "      <td>339.593690</td>\n",
              "      <td>1043.999988</td>\n",
              "      <td>460.506263</td>\n",
              "      <td>1058.137956</td>\n",
              "      <td>516.468616</td>\n",
              "      <td>1021.711494</td>\n",
              "      <td>826.014854</td>\n",
              "      <td>1093.519317</td>\n",
              "      <td>837.682034</td>\n",
              "    </tr>\n",
              "    <tr>\n",
              "      <th>2</th>\n",
              "      <td>001-1-1-01-Z17_D-0000005.jpg</td>\n",
              "      <td>889.000000</td>\n",
              "      <td>347.109461</td>\n",
              "      <td>901.000000</td>\n",
              "      <td>335.000000</td>\n",
              "      <td>883.000000</td>\n",
              "      <td>336.000000</td>\n",
              "      <td>934.000000</td>\n",
              "      <td>346.000000</td>\n",
              "      <td>906.610377</td>\n",
              "      <td>347.726348</td>\n",
              "      <td>948.0</td>\n",
              "      <td>408.0</td>\n",
              "      <td>883.000000</td>\n",
              "      <td>418.000000</td>\n",
              "      <td>1001.0</td>\n",
              "      <td>365.0</td>\n",
              "      <td>836.000000</td>\n",
              "      <td>408.000000</td>\n",
              "      <td>955.000000</td>\n",
              "      <td>340.000000</td>\n",
              "      <td>865.0</td>\n",
              "      <td>366.913745</td>\n",
              "      <td>954.0</td>\n",
              "      <td>577.0</td>\n",
              "      <td>905.0</td>\n",
              "      <td>588.0</td>\n",
              "      <td>963.0</td>\n",
              "      <td>695.0</td>\n",
              "      <td>912.0</td>\n",
              "      <td>724.0</td>\n",
              "      <td>1001.000000</td>\n",
              "      <td>822.000000</td>\n",
              "      <td>941.000000</td>\n",
              "      <td>845.000000</td>\n",
              "      <td>919.516871</td>\n",
              "      <td>382.578860</td>\n",
              "      <td>947.054730</td>\n",
              "      <td>342.383112</td>\n",
              "      <td>876.679961</td>\n",
              "      <td>360.616888</td>\n",
              "      <td>924.050172</td>\n",
              "      <td>469.000000</td>\n",
              "      <td>920.443565</td>\n",
              "      <td>528.025098</td>\n",
              "      <td>999.507427</td>\n",
              "      <td>849.109461</td>\n",
              "      <td>922.741202</td>\n",
              "      <td>867.593682</td>\n",
              "    </tr>\n",
              "  </tbody>\n",
              "</table>\n",
              "</div>"
            ],
            "text/plain": [
              "                          image       nose_x  ...  right_instep_x  right_instep_y\n",
              "0  001-1-1-01-Z17_A-0000019.jpg  1065.179061  ...     1146.844885      715.518800\n",
              "1  001-1-1-01-Z17_A-0000021.jpg  1056.522273  ...     1093.519317      837.682034\n",
              "2  001-1-1-01-Z17_D-0000005.jpg   889.000000  ...      922.741202      867.593682\n",
              "\n",
              "[3 rows x 49 columns]"
            ]
          },
          "metadata": {
            "tags": []
          },
          "execution_count": 25
        }
      ]
    },
    {
      "cell_type": "code",
      "metadata": {
        "colab": {
          "base_uri": "https://localhost:8080/"
        },
        "id": "WJwDpo7eT2n1",
        "outputId": "39ab041a-f1ae-4c38-d11e-a235dc29c27b"
      },
      "source": [
        "# 최종 train, val, test\r\n",
        "train = pd.read_csv('./train.csv')\r\n",
        "valid = pd.read_csv('./valid.csv')\r\n",
        "\r\n",
        "train_paths = glob.glob('./train/*.jpg')\r\n",
        "valid_paths = glob.glob('./val/*.jpg')\r\n",
        "test_paths = glob.glob('./test_imgs/*.jpg')\r\n",
        "print(len(train_paths), len(valid_paths), len(test_paths))\r\n",
        "\r\n",
        "train_paths.sort()\r\n",
        "valid_paths.sort()\r\n",
        "test_paths.sort()\r\n",
        "\r\n",
        "train['path'] = train_paths\r\n",
        "valid['path'] = valid_paths"
      ],
      "execution_count": 26,
      "outputs": [
        {
          "output_type": "stream",
          "text": [
            "3776 419 1600\n"
          ],
          "name": "stdout"
        }
      ]
    },
    {
      "cell_type": "markdown",
      "metadata": {
        "id": "CsRRwcy4VDpS"
      },
      "source": [
        "##visualization"
      ]
    },
    {
      "cell_type": "code",
      "metadata": {
        "colab": {
          "base_uri": "https://localhost:8080/",
          "height": 689
        },
        "id": "YkzEtDbZU506",
        "outputId": "b3963511-9db9-4d26-c1d2-063183949d0e"
      },
      "source": [
        "plt.figure(figsize=(40,20))\r\n",
        "count=1\r\n",
        "\r\n",
        "for i in np.random.randint(0,len(train_paths),3):\r\n",
        "    \r\n",
        "    plt.subplot(5,1, count)\r\n",
        "    \r\n",
        "    img_sample_path = train_paths[i]\r\n",
        "    img = Image.open(img_sample_path)\r\n",
        "    img_np = np.array(img)\r\n",
        "\r\n",
        "    keypoint = train.iloc[:,1:49] #위치 키포인트 하나씩 확인\r\n",
        "    keypoint_sample = keypoint.iloc[i, :]\r\n",
        "    \r\n",
        "    for j in range(0,len(keypoint.columns),2):\r\n",
        "        plt.plot(keypoint_sample[j], keypoint_sample[j+1],'rx')\r\n",
        "        plt.imshow(img_np)\r\n",
        "    \r\n",
        "    count += 1"
      ],
      "execution_count": 27,
      "outputs": [
        {
          "output_type": "display_data",
          "data": {
            "image/png": "[encoded data removed]",
            "text/plain": [
              "<Figure size 2880x1440 with 3 Axes>"
            ]
          },
          "metadata": {
            "tags": [],
            "needs_background": "light"
          }
        }
      ]
    },
    {
      "cell_type": "markdown",
      "metadata": {
        "id": "ZzBf3XyLVQsi"
      },
      "source": [
        "#Augmentation"
      ]
    },
    {
      "cell_type": "code",
      "metadata": {
        "id": "yIdh8Zp5VLUG"
      },
      "source": [
        "# Augmentation Setting\r\n",
        "pixel_shifts = [12]\r\n",
        "rotation_angles = [12]\r\n",
        "inc_brightness_ratio = 1.2\r\n",
        "dec_brightness_ratio = 0.8\r\n",
        "noise_ratio = 0.008"
      ],
      "execution_count": 28,
      "outputs": []
    },
    {
      "cell_type": "code",
      "metadata": {
        "id": "wU11_OmhVnQf"
      },
      "source": [
        "# 좌우 반전\r\n",
        "def left_right_flip(images, keypoints):\r\n",
        "    flipped_keypoints = []\r\n",
        "    flipped_images = np.flip(images, axis=1)\r\n",
        "    for idx, sample_keypoints in enumerate(keypoints):\r\n",
        "        if idx%2 == 0:\r\n",
        "            flipped_keypoints.append(480.-sample_keypoints)\r\n",
        "        else:\r\n",
        "            flipped_keypoints.append(sample_keypoints)\r\n",
        "    \r\n",
        "    # left_right_keypoints_convert\r\n",
        "    for i in range(8):\r\n",
        "        flipped_keypoints[2+(4*i):4+(4*i)], flipped_keypoints[4+(4*i):6+(4*i)] = flipped_keypoints[4+(4*i):6+(4*i)], flipped_keypoints[2+(4*i):4+(4*i)]\r\n",
        "    flipped_keypoints[36:38], flipped_keypoints[38:40] = flipped_keypoints[38:40], flipped_keypoints[36:38]\r\n",
        "    flipped_keypoints[44:46], flipped_keypoints[46:48] = flipped_keypoints[46:48], flipped_keypoints[44:46]\r\n",
        "    \r\n",
        "    return flipped_images, flipped_keypoints"
      ],
      "execution_count": 29,
      "outputs": []
    },
    {
      "cell_type": "code",
      "metadata": {
        "id": "d2LylPLCV31w"
      },
      "source": [
        "# 수직/수평 동시 이동\r\n",
        "# forloop에서 shift_x, shift_y 중 하나만 놓으면\r\n",
        "# 수직 또는 수평 이동만 따로 시행 가능\r\n",
        "def shift_images(images, keypoints):\r\n",
        "    # tensor -> numpy\r\n",
        "    images = images.numpy()\r\n",
        "    shifted_images = []\r\n",
        "    shifted_keypoints = []\r\n",
        "    for shift in pixel_shifts:   \r\n",
        "        for (shift_x,shift_y) in [(-shift,-shift),(-shift,shift),(shift,-shift),(shift,shift)]:\r\n",
        "            # 이동할 matrix 생성\r\n",
        "            M = np.float32([[1,0,shift_x],[0,1,shift_y]])\r\n",
        "            shifted_keypoint = np.array([])\r\n",
        "            shifted_x_list = np.array([])\r\n",
        "            shifted_y_list = np.array([])\r\n",
        "            # 이미지 이동\r\n",
        "            shifted_image = cv2.warpAffine(images, M, (480,270), flags=cv2.INTER_CUBIC)\r\n",
        "            # 이동한만큼 keypoint 수정\r\n",
        "            for idx, point in enumerate(keypoints):\r\n",
        "                if idx%2 == 0: \r\n",
        "                    shifted_keypoint = np.append(shifted_keypoint, point+shift_x)\r\n",
        "                    shifted_x_list = np.append(shifted_x_list, point+shift_x)\r\n",
        "                else: \r\n",
        "                    shifted_keypoint =np.append(shifted_keypoint, point+shift_y)\r\n",
        "                    shifted_y_list = np.append(shifted_y_list, point+shift_y)\r\n",
        "            # 수정된 keypoint가 이미지 사이즈를 벗어나지 않으면 append\r\n",
        "            if np.all(0.0<shifted_x_list) and np.all(shifted_x_list<480) and np.all(0.0<shifted_y_list) and np.all(shifted_y_list<270):\r\n",
        "                shifted_images.append(shifted_image.reshape(270,480,3))\r\n",
        "                shifted_keypoints.append(shifted_keypoint)\r\n",
        "\r\n",
        "    return shifted_images, shifted_keypoints"
      ],
      "execution_count": 30,
      "outputs": []
    },
    {
      "cell_type": "code",
      "metadata": {
        "id": "JyfIxH47V7im"
      },
      "source": [
        "# 이미지 회전\r\n",
        "def rotate_augmentation(images, keypoints):\r\n",
        "    # tensor -> numpy\r\n",
        "    images = images.numpy()\r\n",
        "    rotated_images = []\r\n",
        "    rotated_keypoints = []\r\n",
        "    \r\n",
        "    for angle in rotation_angles:\r\n",
        "        for angle in [angle,-angle]:\r\n",
        "            # 회전할 matrix 생성\r\n",
        "            M = cv2.getRotationMatrix2D((240,135), angle, 1.0)\r\n",
        "            # cv2_imshow로는 문제없지만 추후 plt.imshow로 사진을 확인할 경우 black screen 생성...\r\n",
        "            # 혹시 몰라 matrix를 ndarray로 변환\r\n",
        "            M = np.array(M, dtype=np.float32)\r\n",
        "            angle_rad = -angle*pi/180\r\n",
        "            rotated_image = cv2.warpAffine(images, M, (480,270))\r\n",
        "            rotated_images.append(rotated_image)\r\n",
        "            \r\n",
        "            # keypoint를 copy하여 forloop상에서 값이 계속 없데이트 되는 것을 회피\r\n",
        "            rotated_keypoint = keypoints.copy()\r\n",
        "            rotated_keypoint[0::2] = rotated_keypoint[0::2] - 240\r\n",
        "            rotated_keypoint[1::2] = rotated_keypoint[1::2] - 135\r\n",
        "            \r\n",
        "            for idx in range(0,len(rotated_keypoint),2):\r\n",
        "                rotated_keypoint[idx] = rotated_keypoint[idx]*cos(angle_rad)-rotated_keypoint[idx+1]*sin(angle_rad)\r\n",
        "                rotated_keypoint[idx+1] = rotated_keypoint[idx]*sin(angle_rad)+rotated_keypoint[idx+1]*cos(angle_rad)\r\n",
        "\r\n",
        "            rotated_keypoint[0::2] = rotated_keypoint[0::2] + 240\r\n",
        "            rotated_keypoint[1::2] = rotated_keypoint[1::2] + 135\r\n",
        "            rotated_keypoints.append(rotated_keypoint)\r\n",
        "        \r\n",
        "    return rotated_images, rotated_keypoints"
      ],
      "execution_count": 31,
      "outputs": []
    },
    {
      "cell_type": "code",
      "metadata": {
        "id": "ECYmVpMbV_Tf"
      },
      "source": [
        "# 이미지 해상도 조절\r\n",
        "def alter_brightness(images):\r\n",
        "    altered_brightness_images = []\r\n",
        "    inc_brightness_images = np.clip(images*inc_brightness_ratio, 0.0, 1.0)\r\n",
        "    dec_brightness_images = np.clip(images*dec_brightness_ratio, 0.0, 1.0)\r\n",
        "    altered_brightness_images.append(inc_brightness_images)\r\n",
        "    altered_brightness_images.append(dec_brightness_images)\r\n",
        "    return altered_brightness_images"
      ],
      "execution_count": 32,
      "outputs": []
    },
    {
      "cell_type": "code",
      "metadata": {
        "id": "DAPAInXpWBWj"
      },
      "source": [
        "# Random 노이즈 추가\r\n",
        "def add_noise(images):\r\n",
        "    images = images.numpy()\r\n",
        "    noise = noise_ratio * np.random.randn(270,480,3)\r\n",
        "    noise = noise.astype(np.float32)\r\n",
        "    # 생성한 noise를 원본에 add\r\n",
        "    noisy_image = cv2.add(images, noise)\r\n",
        "    return noisy_image"
      ],
      "execution_count": 33,
      "outputs": []
    },
    {
      "cell_type": "markdown",
      "metadata": {
        "id": "L_pB1SuGWHAS"
      },
      "source": [
        "#Generator"
      ]
    },
    {
      "cell_type": "code",
      "metadata": {
        "id": "NxxHimCYWDLV"
      },
      "source": [
        "def trainGenerator():\r\n",
        "    # 원본 이미지 resize\r\n",
        "    for i in range(len(train)):\r\n",
        "        img = tf.io.read_file(train['path'][i]) # path(경로)를 통해 이미지 읽기\r\n",
        "        img = tf.image.decode_jpeg(img, channels=3) # 경로를 통해 불러온 이미지를 tensor로 변환\r\n",
        "        img = tf.image.resize(img, [270,480]) # 이미지 resize \r\n",
        "        img = img/255                         # 이미지 rescaling\r\n",
        "        target = train.iloc[:,1:49].iloc[i,:] # keypoint 뽑아주기\r\n",
        "        target = target/4                     # image size를 1920x1080 -> 480x270으로 바꿔줬으므로 keypoint도 변경\r\n",
        "\r\n",
        "        yield (img, target)\r\n",
        "    \r\n",
        "    # horizontal flip\r\n",
        "    for i in range(len(train)):\r\n",
        "        img = tf.io.read_file(train['path'][i]) \r\n",
        "        img = tf.image.decode_jpeg(img, channels=3) \r\n",
        "        img = tf.image.resize(img, [270,480]) \r\n",
        "        img = img/255\r\n",
        "        target = train.iloc[:,1:49].iloc[i,:] \r\n",
        "        target = target/4\r\n",
        "        img, target = left_right_flip(img, target)\r\n",
        "        \r\n",
        "        yield (img, target)\r\n",
        "\r\n",
        "    # Horizontal & Vertical shift\r\n",
        "    for i in range(len(train)):\r\n",
        "        img = tf.io.read_file(train['path'][i])\r\n",
        "        img = tf.image.decode_jpeg(img, channels=3)\r\n",
        "        img = tf.image.resize(img, [270,480])\r\n",
        "        img = img/255\r\n",
        "        target = train.iloc[:,1:49].iloc[i,:]\r\n",
        "        target = target/4\r\n",
        "        img_list, target_list = shift_images(img, target)\r\n",
        "        for shifted_img, shifted_target in zip(img_list, target_list):\r\n",
        "            \r\n",
        "            yield (shifted_img, shifted_target)\r\n",
        "\r\n",
        "    # Rotation\r\n",
        "    for i in range(len(train)):\r\n",
        "        img = tf.io.read_file(train['path'][i])\r\n",
        "        img = tf.image.decode_jpeg(img, channels=3)\r\n",
        "        img = tf.image.resize(img, [270,480])\r\n",
        "        img = img/255\r\n",
        "        target = train.iloc[:,1:49].iloc[i,:]\r\n",
        "        target = target/4\r\n",
        "        img_list, target_list = rotate_augmentation(img, target)\r\n",
        "        for rotated_img, rotated_target in zip(img_list, target_list):\r\n",
        "            \r\n",
        "            yield (rotated_img, rotated_target)\r\n",
        "\r\n",
        "    # Alter_Brightness\r\n",
        "    for i in range(len(train)):\r\n",
        "        img = tf.io.read_file(train['path'][i])\r\n",
        "        img = tf.image.decode_jpeg(img, channels=3)\r\n",
        "        img = tf.image.resize(img, [270,480])\r\n",
        "        img = img/255\r\n",
        "        target = train.iloc[:,1:49].iloc[i,:]\r\n",
        "        target = target/4\r\n",
        "        img_list = alter_brightness(img)\r\n",
        "        for altered_brightness_images in img_list:\r\n",
        "            \r\n",
        "            yield (altered_brightness_images, target)\r\n",
        "\r\n",
        "    # Adding_Noise\r\n",
        "    for i in range(len(train)):\r\n",
        "        img = tf.io.read_file(train['path'][i])\r\n",
        "        img = tf.image.decode_jpeg(img, channels=3)\r\n",
        "        img = tf.image.resize(img, [270,480])\r\n",
        "        img = img/255\r\n",
        "        target = train.iloc[:,1:49].iloc[i,:]\r\n",
        "        target = target/4\r\n",
        "        noisy_img = add_noise(img)\r\n",
        "\r\n",
        "        yield (noisy_img, target)\r\n",
        "\r\n"
      ],
      "execution_count": 34,
      "outputs": []
    },
    {
      "cell_type": "code",
      "metadata": {
        "id": "1LXR9hkiWnGt"
      },
      "source": [
        "def validGenerator():\r\n",
        "    # 원본 이미지 resize\r\n",
        "    for i in range(len(valid)):\r\n",
        "        img = tf.io.read_file(valid['path'][i]) # path(경로)를 통해 이미지 읽기\r\n",
        "        img = tf.image.decode_jpeg(img, channels=3) # 경로를 통해 불러온 이미지를 tensor로 변환\r\n",
        "        img = tf.image.resize(img, [270,480]) # 이미지 resize \r\n",
        "        img = img/255                         # 이미지 rescaling\r\n",
        "        target = valid.iloc[:,1:49].iloc[i,:] # keypoint 뽑아주기\r\n",
        "        target = target/4                     # image size를 1920x1080 -> 480x270으로 바꿔줬으므로 keypoint도 변경\r\n",
        "\r\n",
        "        yield (img, target)"
      ],
      "execution_count": 35,
      "outputs": []
    },
    {
      "cell_type": "code",
      "metadata": {
        "id": "__Wnp3OHWpVl"
      },
      "source": [
        "batch_size = 64\r\n",
        "\r\n",
        "train_dataset = tf.data.Dataset.from_generator(trainGenerator, (tf.float32, tf.float32), (tf.TensorShape([270,480,3]),tf.TensorShape([48])))\r\n",
        "train_dataset = train_dataset.batch(batch_size).prefetch(1)\r\n",
        "valid_dataset = tf.data.Dataset.from_generator(validGenerator, (tf.float32, tf.float32), (tf.TensorShape([270,480,3]),tf.TensorShape([48])))\r\n",
        "valid_dataset = valid_dataset.batch(batch_size).prefetch(1)"
      ],
      "execution_count": 36,
      "outputs": []
    },
    {
      "cell_type": "markdown",
      "metadata": {
        "id": "Z5sVflOVWvA1"
      },
      "source": [
        "#Modeling"
      ]
    },
    {
      "cell_type": "code",
      "metadata": {
        "id": "6HsKvxCTWtYY"
      },
      "source": [
        "# Callback 설정\r\n",
        "earlystop = EarlyStopping(patience=7)\r\n",
        "learning_rate_reduction=ReduceLROnPlateau(\r\n",
        "                        monitor= \"val_loss\", \r\n",
        "                        patience = 2, \r\n",
        "                        factor = 0.85, \r\n",
        "                        min_lr=1e-7,\r\n",
        "                        verbose=1)\r\n",
        "\r\n",
        "model_check = ModelCheckpoint( #에포크마다 현재 가중치를 저장    \r\n",
        "        filepath=\"./baseline_with_augmentation.h5\", #모델 파일 경로\r\n",
        "        monitor='val_loss',  # val_loss 가 좋아지지 않으면 모델 파일을 덮어쓰지 않음.\r\n",
        "        save_best_only=True)\r\n",
        "\r\n",
        "callbacks = [earlystop, learning_rate_reduction, model_check]"
      ],
      "execution_count": 37,
      "outputs": []
    },
    {
      "cell_type": "code",
      "metadata": {
        "colab": {
          "base_uri": "https://localhost:8080/"
        },
        "id": "zS5OK_khW9v5",
        "outputId": "472989f1-1137-4a9a-ed92-265c4c83a45d"
      },
      "source": [
        "# Model Structure\r\n",
        "model = Sequential()\r\n",
        "\r\n",
        "model.add(Convolution2D(32, (3,3), padding='same', use_bias=False, input_shape=(270,480,3)))\r\n",
        "model.add(LeakyReLU(alpha = 0.1))\r\n",
        "model.add(BatchNormalization())\r\n",
        "model.add(Convolution2D(32, (3,3), padding='same', use_bias=False))\r\n",
        "model.add(LeakyReLU(alpha = 0.1))\r\n",
        "model.add(BatchNormalization())\r\n",
        "model.add(MaxPooling2D(pool_size=(2, 2)))\r\n",
        "\r\n",
        "\r\n",
        "model.add(Convolution2D(64, (3,3), padding='same', use_bias=False))\r\n",
        "model.add(LeakyReLU(alpha = 0.1))\r\n",
        "model.add(BatchNormalization())\r\n",
        "model.add(Convolution2D(64, (3,3), padding='same', use_bias=False))\r\n",
        "model.add(LeakyReLU(alpha = 0.1))\r\n",
        "model.add(BatchNormalization())\r\n",
        "model.add(MaxPooling2D(pool_size=(2, 2)))\r\n",
        "\r\n",
        "\r\n",
        "model.add(Convolution2D(96, (3,3), padding='same', use_bias=False))\r\n",
        "model.add(LeakyReLU(alpha = 0.1))\r\n",
        "model.add(BatchNormalization())\r\n",
        "model.add(Convolution2D(96, (3,3), padding='same', use_bias=False))\r\n",
        "model.add(LeakyReLU(alpha = 0.1))\r\n",
        "model.add(BatchNormalization())\r\n",
        "model.add(MaxPooling2D(pool_size=(2, 2)))\r\n",
        "\r\n",
        "\r\n",
        "model.add(Convolution2D(128, (3,3),padding='same', use_bias=False))\r\n",
        "model.add(LeakyReLU(alpha = 0.1))\r\n",
        "model.add(BatchNormalization())\r\n",
        "model.add(Convolution2D(128, (3,3),padding='same', use_bias=False))\r\n",
        "model.add(LeakyReLU(alpha = 0.1))\r\n",
        "model.add(BatchNormalization())\r\n",
        "model.add(MaxPooling2D(pool_size=(2, 2)))\r\n",
        "\r\n",
        "\r\n",
        "# model.add(Convolution2D(256, (3,3),padding='same',use_bias=False))\r\n",
        "# model.add(LeakyReLU(alpha = 0.1))\r\n",
        "# model.add(BatchNormalization())\r\n",
        "# model.add(Convolution2D(256, (3,3),padding='same',use_bias=False))\r\n",
        "# model.add(LeakyReLU(alpha = 0.1))\r\n",
        "# model.add(BatchNormalization())\r\n",
        "# model.add(MaxPooling2D(pool_size=(2, 2)))\r\n",
        "\r\n",
        "\r\n",
        "# model.add(Convolution2D(512, (3,3), padding='same', use_bias=False))\r\n",
        "# model.add(LeakyReLU(alpha = 0.1))\r\n",
        "# model.add(BatchNormalization())\r\n",
        "# model.add(Convolution2D(512, (3,3), padding='same', use_bias=False))\r\n",
        "# model.add(LeakyReLU(alpha = 0.1))\r\n",
        "# model.add(BatchNormalization())\r\n",
        "\r\n",
        "\r\n",
        "model.add(Flatten())\r\n",
        "model.add(Dense(512,activation='relu'))\r\n",
        "model.add(Dropout(0.5))\r\n",
        "model.add(Dense(48))\r\n",
        "model.summary()"
      ],
      "execution_count": 38,
      "outputs": [
        {
          "output_type": "stream",
          "text": [
            "Model: \"sequential\"\n",
            "_________________________________________________________________\n",
            "Layer (type)                 Output Shape              Param #   \n",
            "=================================================================\n",
            "conv2d (Conv2D)              (None, 270, 480, 32)      864       \n",
            "_________________________________________________________________\n",
            "leaky_re_lu (LeakyReLU)      (None, 270, 480, 32)      0         \n",
            "_________________________________________________________________\n",
            "batch_normalization (BatchNo (None, 270, 480, 32)      128       \n",
            "_________________________________________________________________\n",
            "conv2d_1 (Conv2D)            (None, 270, 480, 32)      9216      \n",
            "_________________________________________________________________\n",
            "leaky_re_lu_1 (LeakyReLU)    (None, 270, 480, 32)      0         \n",
            "_________________________________________________________________\n",
            "batch_normalization_1 (Batch (None, 270, 480, 32)      128       \n",
            "_________________________________________________________________\n",
            "max_pooling2d (MaxPooling2D) (None, 135, 240, 32)      0         \n",
            "_________________________________________________________________\n",
            "conv2d_2 (Conv2D)            (None, 135, 240, 64)      18432     \n",
            "_________________________________________________________________\n",
            "leaky_re_lu_2 (LeakyReLU)    (None, 135, 240, 64)      0         \n",
            "_________________________________________________________________\n",
            "batch_normalization_2 (Batch (None, 135, 240, 64)      256       \n",
            "_________________________________________________________________\n",
            "conv2d_3 (Conv2D)            (None, 135, 240, 64)      36864     \n",
            "_________________________________________________________________\n",
            "leaky_re_lu_3 (LeakyReLU)    (None, 135, 240, 64)      0         \n",
            "_________________________________________________________________\n",
            "batch_normalization_3 (Batch (None, 135, 240, 64)      256       \n",
            "_________________________________________________________________\n",
            "max_pooling2d_1 (MaxPooling2 (None, 67, 120, 64)       0         \n",
            "_________________________________________________________________\n",
            "conv2d_4 (Conv2D)            (None, 67, 120, 96)       55296     \n",
            "_________________________________________________________________\n",
            "leaky_re_lu_4 (LeakyReLU)    (None, 67, 120, 96)       0         \n",
            "_________________________________________________________________\n",
            "batch_normalization_4 (Batch (None, 67, 120, 96)       384       \n",
            "_________________________________________________________________\n",
            "conv2d_5 (Conv2D)            (None, 67, 120, 96)       82944     \n",
            "_________________________________________________________________\n",
            "leaky_re_lu_5 (LeakyReLU)    (None, 67, 120, 96)       0         \n",
            "_________________________________________________________________\n",
            "batch_normalization_5 (Batch (None, 67, 120, 96)       384       \n",
            "_________________________________________________________________\n",
            "max_pooling2d_2 (MaxPooling2 (None, 33, 60, 96)        0         \n",
            "_________________________________________________________________\n",
            "conv2d_6 (Conv2D)            (None, 33, 60, 128)       110592    \n",
            "_________________________________________________________________\n",
            "leaky_re_lu_6 (LeakyReLU)    (None, 33, 60, 128)       0         \n",
            "_________________________________________________________________\n",
            "batch_normalization_6 (Batch (None, 33, 60, 128)       512       \n",
            "_________________________________________________________________\n",
            "conv2d_7 (Conv2D)            (None, 33, 60, 128)       147456    \n",
            "_________________________________________________________________\n",
            "leaky_re_lu_7 (LeakyReLU)    (None, 33, 60, 128)       0         \n",
            "_________________________________________________________________\n",
            "batch_normalization_7 (Batch (None, 33, 60, 128)       512       \n",
            "_________________________________________________________________\n",
            "max_pooling2d_3 (MaxPooling2 (None, 16, 30, 128)       0         \n",
            "_________________________________________________________________\n",
            "flatten (Flatten)            (None, 61440)             0         \n",
            "_________________________________________________________________\n",
            "dense (Dense)                (None, 512)               31457792  \n",
            "_________________________________________________________________\n",
            "dropout (Dropout)            (None, 512)               0         \n",
            "_________________________________________________________________\n",
            "dense_1 (Dense)              (None, 48)                24624     \n",
            "=================================================================\n",
            "Total params: 31,946,640\n",
            "Trainable params: 31,945,360\n",
            "Non-trainable params: 1,280\n",
            "_________________________________________________________________\n"
          ],
          "name": "stdout"
        }
      ]
    },
    {
      "cell_type": "code",
      "metadata": {
        "colab": {
          "base_uri": "https://localhost:8080/"
        },
        "id": "Hdlsc_g5XAp2",
        "outputId": "13e46b6e-0bcb-4e47-fff8-43ce87636669"
      },
      "source": [
        "model.compile(optimizer=Adam(learning_rate=0.0001), \r\n",
        "              loss='mean_squared_error',\r\n",
        "              metrics=['mae'])\r\n",
        "\r\n",
        "history = model.fit(train_dataset,\r\n",
        "                    epochs=3,\r\n",
        "                    validation_data=valid_dataset,\r\n",
        "                    callbacks = callbacks,\r\n",
        "                    verbose=1)"
      ],
      "execution_count": 39,
      "outputs": [
        {
          "output_type": "stream",
          "text": [
            "Epoch 1/3\n",
            "649/649 [==============================] - 1172s 2s/step - loss: 5870.3174 - mae: 57.4750 - val_loss: 817.1690 - val_mae: 22.8536\n",
            "Epoch 2/3\n",
            "649/649 [==============================] - 1055s 2s/step - loss: 1954.9971 - mae: 34.6761 - val_loss: 983.3255 - val_mae: 23.9676\n",
            "Epoch 3/3\n",
            "649/649 [==============================] - 1058s 2s/step - loss: 1418.9538 - mae: 29.3553 - val_loss: 894.9498 - val_mae: 22.9281\n",
            "\n",
            "Epoch 00003: ReduceLROnPlateau reducing learning rate to 8.499999785271939e-05.\n"
          ],
          "name": "stdout"
        }
      ]
    },
    {
      "cell_type": "markdown",
      "metadata": {
        "id": "PK6bXpmMbFrI"
      },
      "source": [
        "# Load TestSet & Predict"
      ]
    },
    {
      "cell_type": "code",
      "metadata": {
        "id": "5q5OLXVwXH-b",
        "colab": {
          "base_uri": "https://localhost:8080/"
        },
        "outputId": "c420b72e-3b53-4295-c9c8-09ddbfe57e43"
      },
      "source": [
        "test_paths = glob.glob('./test_imgs/*.jpg')\r\n",
        "test_paths.sort()\r\n",
        "X_test=[]\r\n",
        "\r\n",
        "for test_path in tqdm(test_paths):\r\n",
        "    img=tf.io.read_file(test_path)\r\n",
        "    img=tf.image.decode_jpeg(img, channels=3)\r\n",
        "    img=tf.image.resize(img, [270,480])\r\n",
        "    img=img/255\r\n",
        "    X_test.append(img)\r\n",
        "\r\n",
        "X_test=tf.stack(X_test, axis=0)\r\n",
        "X_test.shape"
      ],
      "execution_count": 40,
      "outputs": [
        {
          "output_type": "stream",
          "text": [
            "100%|██████████| 1600/1600 [07:18<00:00,  3.65it/s]\n"
          ],
          "name": "stderr"
        },
        {
          "output_type": "execute_result",
          "data": {
            "text/plain": [
              "TensorShape([1600, 270, 480, 3])"
            ]
          },
          "metadata": {
            "tags": []
          },
          "execution_count": 40
        }
      ]
    },
    {
      "cell_type": "code",
      "metadata": {
        "id": "eT89OPU0bLag"
      },
      "source": [
        "pred = model.predict(X_test)"
      ],
      "execution_count": 41,
      "outputs": []
    },
    {
      "cell_type": "markdown",
      "metadata": {
        "id": "fyPpVyqwbT6B"
      },
      "source": [
        "# submission"
      ]
    },
    {
      "cell_type": "code",
      "metadata": {
        "id": "ysqv7lA2bQG6"
      },
      "source": [
        "submission = pd.read_csv('./sample_submission.csv')\r\n",
        "submission.iloc[:,1:] = pred * 4     # image size를 1920x1080 -> 480x270으로 바꿔서 예측했으므로 * 4\r\n",
        "# submission"
      ],
      "execution_count": 42,
      "outputs": []
    },
    {
      "cell_type": "code",
      "metadata": {
        "id": "kUGa445abXJj"
      },
      "source": [
        "submission.to_csv('baseline.csv', index=False)"
      ],
      "execution_count": 43,
      "outputs": []
    },
    {
      "cell_type": "code",
      "metadata": {
        "colab": {
          "base_uri": "https://localhost:8080/",
          "height": 758
        },
        "id": "J4zL_nO9i-y5",
        "outputId": "2ee0a6e7-9461-4a7c-e753-ec560f7b8a2c"
      },
      "source": [
        "submission"
      ],
      "execution_count": 44,
      "outputs": [
        {
          "output_type": "execute_result",
          "data": {
            "text/html": [
              "<div>\n",
              "<style scoped>\n",
              "    .dataframe tbody tr th:only-of-type {\n",
              "        vertical-align: middle;\n",
              "    }\n",
              "\n",
              "    .dataframe tbody tr th {\n",
              "        vertical-align: top;\n",
              "    }\n",
              "\n",
              "    .dataframe thead th {\n",
              "        text-align: right;\n",
              "    }\n",
              "</style>\n",
              "<table border=\"1\" class=\"dataframe\">\n",
              "  <thead>\n",
              "    <tr style=\"text-align: right;\">\n",
              "      <th></th>\n",
              "      <th>image</th>\n",
              "      <th>nose_x</th>\n",
              "      <th>nose_y</th>\n",
              "      <th>left_eye_x</th>\n",
              "      <th>left_eye_y</th>\n",
              "      <th>right_eye_x</th>\n",
              "      <th>right_eye_y</th>\n",
              "      <th>left_ear_x</th>\n",
              "      <th>left_ear_y</th>\n",
              "      <th>right_ear_x</th>\n",
              "      <th>right_ear_y</th>\n",
              "      <th>left_shoulder_x</th>\n",
              "      <th>left_shoulder_y</th>\n",
              "      <th>right_shoulder_x</th>\n",
              "      <th>right_shoulder_y</th>\n",
              "      <th>left_elbow_x</th>\n",
              "      <th>left_elbow_y</th>\n",
              "      <th>right_elbow_x</th>\n",
              "      <th>right_elbow_y</th>\n",
              "      <th>left_wrist_x</th>\n",
              "      <th>left_wrist_y</th>\n",
              "      <th>right_wrist_x</th>\n",
              "      <th>right_wrist_y</th>\n",
              "      <th>left_hip_x</th>\n",
              "      <th>left_hip_y</th>\n",
              "      <th>right_hip_x</th>\n",
              "      <th>right_hip_y</th>\n",
              "      <th>left_knee_x</th>\n",
              "      <th>left_knee_y</th>\n",
              "      <th>right_knee_x</th>\n",
              "      <th>right_knee_y</th>\n",
              "      <th>left_ankle_x</th>\n",
              "      <th>left_ankle_y</th>\n",
              "      <th>right_ankle_x</th>\n",
              "      <th>right_ankle_y</th>\n",
              "      <th>neck_x</th>\n",
              "      <th>neck_y</th>\n",
              "      <th>left_palm_x</th>\n",
              "      <th>left_palm_y</th>\n",
              "      <th>right_palm_x</th>\n",
              "      <th>right_palm_y</th>\n",
              "      <th>spine2(back)_x</th>\n",
              "      <th>spine2(back)_y</th>\n",
              "      <th>spine1(waist)_x</th>\n",
              "      <th>spine1(waist)_y</th>\n",
              "      <th>left_instep_x</th>\n",
              "      <th>left_instep_y</th>\n",
              "      <th>right_instep_x</th>\n",
              "      <th>right_instep_y</th>\n",
              "    </tr>\n",
              "  </thead>\n",
              "  <tbody>\n",
              "    <tr>\n",
              "      <th>0</th>\n",
              "      <td>649-2-4-32-Z148_A-0000001.jpg</td>\n",
              "      <td>966.557007</td>\n",
              "      <td>304.399536</td>\n",
              "      <td>1000.162720</td>\n",
              "      <td>302.585785</td>\n",
              "      <td>995.522400</td>\n",
              "      <td>319.218750</td>\n",
              "      <td>969.552002</td>\n",
              "      <td>356.856018</td>\n",
              "      <td>1007.326843</td>\n",
              "      <td>344.227295</td>\n",
              "      <td>894.397827</td>\n",
              "      <td>420.083588</td>\n",
              "      <td>967.511108</td>\n",
              "      <td>393.467957</td>\n",
              "      <td>857.536865</td>\n",
              "      <td>359.639801</td>\n",
              "      <td>919.565125</td>\n",
              "      <td>360.630493</td>\n",
              "      <td>822.721680</td>\n",
              "      <td>363.414490</td>\n",
              "      <td>963.836975</td>\n",
              "      <td>349.700378</td>\n",
              "      <td>820.526794</td>\n",
              "      <td>458.778046</td>\n",
              "      <td>861.448364</td>\n",
              "      <td>449.947052</td>\n",
              "      <td>754.584595</td>\n",
              "      <td>442.798248</td>\n",
              "      <td>765.186768</td>\n",
              "      <td>452.835327</td>\n",
              "      <td>697.839417</td>\n",
              "      <td>616.176514</td>\n",
              "      <td>782.633972</td>\n",
              "      <td>576.581177</td>\n",
              "      <td>899.533875</td>\n",
              "      <td>421.123352</td>\n",
              "      <td>825.057312</td>\n",
              "      <td>375.785553</td>\n",
              "      <td>934.521484</td>\n",
              "      <td>361.239380</td>\n",
              "      <td>847.491943</td>\n",
              "      <td>430.563812</td>\n",
              "      <td>826.080566</td>\n",
              "      <td>462.188019</td>\n",
              "      <td>681.239746</td>\n",
              "      <td>654.511536</td>\n",
              "      <td>730.442993</td>\n",
              "      <td>644.070679</td>\n",
              "    </tr>\n",
              "    <tr>\n",
              "      <th>1</th>\n",
              "      <td>649-2-4-32-Z148_A-0000003.jpg</td>\n",
              "      <td>968.873474</td>\n",
              "      <td>305.920624</td>\n",
              "      <td>1002.478149</td>\n",
              "      <td>303.944733</td>\n",
              "      <td>998.076965</td>\n",
              "      <td>320.422791</td>\n",
              "      <td>971.665161</td>\n",
              "      <td>358.463989</td>\n",
              "      <td>1009.795471</td>\n",
              "      <td>345.678741</td>\n",
              "      <td>896.404724</td>\n",
              "      <td>422.043457</td>\n",
              "      <td>969.727783</td>\n",
              "      <td>395.129333</td>\n",
              "      <td>859.354492</td>\n",
              "      <td>361.445038</td>\n",
              "      <td>921.654602</td>\n",
              "      <td>361.989746</td>\n",
              "      <td>824.423950</td>\n",
              "      <td>365.117798</td>\n",
              "      <td>965.974243</td>\n",
              "      <td>350.929993</td>\n",
              "      <td>822.205688</td>\n",
              "      <td>460.774170</td>\n",
              "      <td>862.904724</td>\n",
              "      <td>451.949615</td>\n",
              "      <td>755.783997</td>\n",
              "      <td>444.419342</td>\n",
              "      <td>766.349243</td>\n",
              "      <td>454.455292</td>\n",
              "      <td>699.055359</td>\n",
              "      <td>618.500122</td>\n",
              "      <td>784.153564</td>\n",
              "      <td>578.837097</td>\n",
              "      <td>901.284119</td>\n",
              "      <td>423.002991</td>\n",
              "      <td>826.798218</td>\n",
              "      <td>377.587128</td>\n",
              "      <td>936.402771</td>\n",
              "      <td>362.786316</td>\n",
              "      <td>848.964905</td>\n",
              "      <td>432.307159</td>\n",
              "      <td>827.367676</td>\n",
              "      <td>464.175537</td>\n",
              "      <td>682.285278</td>\n",
              "      <td>656.694580</td>\n",
              "      <td>731.155945</td>\n",
              "      <td>645.942871</td>\n",
              "    </tr>\n",
              "    <tr>\n",
              "      <th>2</th>\n",
              "      <td>649-2-4-32-Z148_A-0000005.jpg</td>\n",
              "      <td>973.878845</td>\n",
              "      <td>338.744446</td>\n",
              "      <td>1007.489197</td>\n",
              "      <td>339.802155</td>\n",
              "      <td>1006.953674</td>\n",
              "      <td>355.139221</td>\n",
              "      <td>985.023926</td>\n",
              "      <td>381.403473</td>\n",
              "      <td>1018.444275</td>\n",
              "      <td>371.201813</td>\n",
              "      <td>896.044861</td>\n",
              "      <td>429.937103</td>\n",
              "      <td>972.262817</td>\n",
              "      <td>412.562225</td>\n",
              "      <td>859.245789</td>\n",
              "      <td>375.365784</td>\n",
              "      <td>929.624512</td>\n",
              "      <td>368.284088</td>\n",
              "      <td>825.178223</td>\n",
              "      <td>373.053162</td>\n",
              "      <td>984.855225</td>\n",
              "      <td>365.966705</td>\n",
              "      <td>815.864075</td>\n",
              "      <td>448.364197</td>\n",
              "      <td>862.095825</td>\n",
              "      <td>438.002686</td>\n",
              "      <td>748.914062</td>\n",
              "      <td>434.435669</td>\n",
              "      <td>761.541199</td>\n",
              "      <td>443.026184</td>\n",
              "      <td>687.066589</td>\n",
              "      <td>595.577576</td>\n",
              "      <td>762.784912</td>\n",
              "      <td>564.594910</td>\n",
              "      <td>910.461365</td>\n",
              "      <td>450.167603</td>\n",
              "      <td>831.632690</td>\n",
              "      <td>390.645660</td>\n",
              "      <td>941.212097</td>\n",
              "      <td>388.376648</td>\n",
              "      <td>853.010925</td>\n",
              "      <td>444.194611</td>\n",
              "      <td>823.719543</td>\n",
              "      <td>466.167603</td>\n",
              "      <td>672.708984</td>\n",
              "      <td>634.195679</td>\n",
              "      <td>718.559265</td>\n",
              "      <td>625.350403</td>\n",
              "    </tr>\n",
              "    <tr>\n",
              "      <th>3</th>\n",
              "      <td>649-2-4-32-Z148_A-0000007.jpg</td>\n",
              "      <td>1034.198486</td>\n",
              "      <td>425.648529</td>\n",
              "      <td>1053.418579</td>\n",
              "      <td>441.100739</td>\n",
              "      <td>1064.940796</td>\n",
              "      <td>451.466736</td>\n",
              "      <td>1034.818237</td>\n",
              "      <td>491.054474</td>\n",
              "      <td>1062.823730</td>\n",
              "      <td>479.093140</td>\n",
              "      <td>955.647888</td>\n",
              "      <td>505.207367</td>\n",
              "      <td>1009.391296</td>\n",
              "      <td>490.795563</td>\n",
              "      <td>906.212463</td>\n",
              "      <td>464.627350</td>\n",
              "      <td>975.906616</td>\n",
              "      <td>440.557892</td>\n",
              "      <td>882.955078</td>\n",
              "      <td>452.909973</td>\n",
              "      <td>1039.345703</td>\n",
              "      <td>442.770538</td>\n",
              "      <td>839.638367</td>\n",
              "      <td>493.418518</td>\n",
              "      <td>885.353638</td>\n",
              "      <td>485.954254</td>\n",
              "      <td>761.145691</td>\n",
              "      <td>459.198517</td>\n",
              "      <td>799.061218</td>\n",
              "      <td>458.902557</td>\n",
              "      <td>701.380066</td>\n",
              "      <td>641.409302</td>\n",
              "      <td>767.726379</td>\n",
              "      <td>620.640198</td>\n",
              "      <td>965.200745</td>\n",
              "      <td>535.635193</td>\n",
              "      <td>900.696533</td>\n",
              "      <td>480.267853</td>\n",
              "      <td>993.767578</td>\n",
              "      <td>479.661133</td>\n",
              "      <td>898.859924</td>\n",
              "      <td>506.607635</td>\n",
              "      <td>857.920593</td>\n",
              "      <td>514.608765</td>\n",
              "      <td>687.694397</td>\n",
              "      <td>661.269409</td>\n",
              "      <td>721.621094</td>\n",
              "      <td>652.655518</td>\n",
              "    </tr>\n",
              "    <tr>\n",
              "      <th>4</th>\n",
              "      <td>649-2-4-32-Z148_A-0000009.jpg</td>\n",
              "      <td>982.236633</td>\n",
              "      <td>373.525574</td>\n",
              "      <td>1011.008667</td>\n",
              "      <td>383.048553</td>\n",
              "      <td>1018.368835</td>\n",
              "      <td>394.115143</td>\n",
              "      <td>999.100586</td>\n",
              "      <td>420.857605</td>\n",
              "      <td>1024.932007</td>\n",
              "      <td>408.795319</td>\n",
              "      <td>903.540771</td>\n",
              "      <td>445.824463</td>\n",
              "      <td>971.332336</td>\n",
              "      <td>442.444855</td>\n",
              "      <td>863.268738</td>\n",
              "      <td>399.060333</td>\n",
              "      <td>935.767334</td>\n",
              "      <td>391.424622</td>\n",
              "      <td>833.699280</td>\n",
              "      <td>393.155334</td>\n",
              "      <td>1002.473206</td>\n",
              "      <td>392.520386</td>\n",
              "      <td>812.370728</td>\n",
              "      <td>451.339417</td>\n",
              "      <td>862.321045</td>\n",
              "      <td>438.864594</td>\n",
              "      <td>744.940735</td>\n",
              "      <td>430.995605</td>\n",
              "      <td>761.809448</td>\n",
              "      <td>436.748199</td>\n",
              "      <td>682.121277</td>\n",
              "      <td>590.574646</td>\n",
              "      <td>745.721802</td>\n",
              "      <td>564.652649</td>\n",
              "      <td>921.067627</td>\n",
              "      <td>483.315063</td>\n",
              "      <td>843.593750</td>\n",
              "      <td>415.200165</td>\n",
              "      <td>947.136353</td>\n",
              "      <td>425.452881</td>\n",
              "      <td>857.763672</td>\n",
              "      <td>463.873688</td>\n",
              "      <td>822.195984</td>\n",
              "      <td>478.637390</td>\n",
              "      <td>668.967773</td>\n",
              "      <td>622.383545</td>\n",
              "      <td>707.247620</td>\n",
              "      <td>614.353516</td>\n",
              "    </tr>\n",
              "    <tr>\n",
              "      <th>...</th>\n",
              "      <td>...</td>\n",
              "      <td>...</td>\n",
              "      <td>...</td>\n",
              "      <td>...</td>\n",
              "      <td>...</td>\n",
              "      <td>...</td>\n",
              "      <td>...</td>\n",
              "      <td>...</td>\n",
              "      <td>...</td>\n",
              "      <td>...</td>\n",
              "      <td>...</td>\n",
              "      <td>...</td>\n",
              "      <td>...</td>\n",
              "      <td>...</td>\n",
              "      <td>...</td>\n",
              "      <td>...</td>\n",
              "      <td>...</td>\n",
              "      <td>...</td>\n",
              "      <td>...</td>\n",
              "      <td>...</td>\n",
              "      <td>...</td>\n",
              "      <td>...</td>\n",
              "      <td>...</td>\n",
              "      <td>...</td>\n",
              "      <td>...</td>\n",
              "      <td>...</td>\n",
              "      <td>...</td>\n",
              "      <td>...</td>\n",
              "      <td>...</td>\n",
              "      <td>...</td>\n",
              "      <td>...</td>\n",
              "      <td>...</td>\n",
              "      <td>...</td>\n",
              "      <td>...</td>\n",
              "      <td>...</td>\n",
              "      <td>...</td>\n",
              "      <td>...</td>\n",
              "      <td>...</td>\n",
              "      <td>...</td>\n",
              "      <td>...</td>\n",
              "      <td>...</td>\n",
              "      <td>...</td>\n",
              "      <td>...</td>\n",
              "      <td>...</td>\n",
              "      <td>...</td>\n",
              "      <td>...</td>\n",
              "      <td>...</td>\n",
              "      <td>...</td>\n",
              "      <td>...</td>\n",
              "    </tr>\n",
              "    <tr>\n",
              "      <th>1595</th>\n",
              "      <td>786-3-5-41-Z94_E-0000023.jpg</td>\n",
              "      <td>794.514893</td>\n",
              "      <td>604.817932</td>\n",
              "      <td>803.664246</td>\n",
              "      <td>612.408020</td>\n",
              "      <td>828.209961</td>\n",
              "      <td>603.922791</td>\n",
              "      <td>807.772583</td>\n",
              "      <td>616.790833</td>\n",
              "      <td>814.933044</td>\n",
              "      <td>569.032288</td>\n",
              "      <td>824.849060</td>\n",
              "      <td>619.160706</td>\n",
              "      <td>903.510620</td>\n",
              "      <td>632.907471</td>\n",
              "      <td>822.653992</td>\n",
              "      <td>662.987366</td>\n",
              "      <td>982.492249</td>\n",
              "      <td>699.225281</td>\n",
              "      <td>879.714233</td>\n",
              "      <td>675.714783</td>\n",
              "      <td>990.808533</td>\n",
              "      <td>700.676453</td>\n",
              "      <td>930.314819</td>\n",
              "      <td>689.299744</td>\n",
              "      <td>986.212097</td>\n",
              "      <td>704.272095</td>\n",
              "      <td>947.301575</td>\n",
              "      <td>738.553650</td>\n",
              "      <td>1036.404419</td>\n",
              "      <td>763.751648</td>\n",
              "      <td>1009.602112</td>\n",
              "      <td>854.398804</td>\n",
              "      <td>1085.712280</td>\n",
              "      <td>945.748291</td>\n",
              "      <td>889.115173</td>\n",
              "      <td>617.828369</td>\n",
              "      <td>893.251770</td>\n",
              "      <td>687.490723</td>\n",
              "      <td>1006.905334</td>\n",
              "      <td>688.975952</td>\n",
              "      <td>916.554199</td>\n",
              "      <td>644.996399</td>\n",
              "      <td>946.309387</td>\n",
              "      <td>635.361511</td>\n",
              "      <td>1031.671875</td>\n",
              "      <td>909.580994</td>\n",
              "      <td>1034.027344</td>\n",
              "      <td>920.787415</td>\n",
              "    </tr>\n",
              "    <tr>\n",
              "      <th>1596</th>\n",
              "      <td>786-3-5-41-Z94_E-0000025.jpg</td>\n",
              "      <td>811.044617</td>\n",
              "      <td>602.754150</td>\n",
              "      <td>818.278076</td>\n",
              "      <td>605.745422</td>\n",
              "      <td>836.424744</td>\n",
              "      <td>597.356873</td>\n",
              "      <td>822.633789</td>\n",
              "      <td>601.512939</td>\n",
              "      <td>832.897095</td>\n",
              "      <td>557.653198</td>\n",
              "      <td>837.671631</td>\n",
              "      <td>608.183533</td>\n",
              "      <td>912.202393</td>\n",
              "      <td>624.086365</td>\n",
              "      <td>846.254578</td>\n",
              "      <td>655.964844</td>\n",
              "      <td>992.931396</td>\n",
              "      <td>689.100342</td>\n",
              "      <td>897.971436</td>\n",
              "      <td>679.161865</td>\n",
              "      <td>993.230530</td>\n",
              "      <td>701.656433</td>\n",
              "      <td>942.402161</td>\n",
              "      <td>689.250061</td>\n",
              "      <td>992.009094</td>\n",
              "      <td>691.074463</td>\n",
              "      <td>964.694946</td>\n",
              "      <td>742.064941</td>\n",
              "      <td>1035.972168</td>\n",
              "      <td>765.358093</td>\n",
              "      <td>1022.670044</td>\n",
              "      <td>861.296997</td>\n",
              "      <td>1088.100952</td>\n",
              "      <td>945.313904</td>\n",
              "      <td>898.039551</td>\n",
              "      <td>609.507263</td>\n",
              "      <td>909.176270</td>\n",
              "      <td>691.374939</td>\n",
              "      <td>1023.851624</td>\n",
              "      <td>701.919495</td>\n",
              "      <td>936.583374</td>\n",
              "      <td>633.287964</td>\n",
              "      <td>967.405212</td>\n",
              "      <td>628.839233</td>\n",
              "      <td>1053.796509</td>\n",
              "      <td>923.441345</td>\n",
              "      <td>1038.529541</td>\n",
              "      <td>925.775818</td>\n",
              "    </tr>\n",
              "    <tr>\n",
              "      <th>1597</th>\n",
              "      <td>786-3-5-41-Z94_E-0000027.jpg</td>\n",
              "      <td>825.665039</td>\n",
              "      <td>616.955017</td>\n",
              "      <td>828.796265</td>\n",
              "      <td>614.086975</td>\n",
              "      <td>853.630005</td>\n",
              "      <td>611.116516</td>\n",
              "      <td>838.634766</td>\n",
              "      <td>622.597351</td>\n",
              "      <td>842.092468</td>\n",
              "      <td>573.448792</td>\n",
              "      <td>853.602539</td>\n",
              "      <td>622.874329</td>\n",
              "      <td>930.606750</td>\n",
              "      <td>639.697021</td>\n",
              "      <td>852.580200</td>\n",
              "      <td>666.609192</td>\n",
              "      <td>1008.711060</td>\n",
              "      <td>698.333008</td>\n",
              "      <td>906.347961</td>\n",
              "      <td>680.959900</td>\n",
              "      <td>1014.772583</td>\n",
              "      <td>701.234863</td>\n",
              "      <td>948.809387</td>\n",
              "      <td>698.766541</td>\n",
              "      <td>1005.454590</td>\n",
              "      <td>704.646667</td>\n",
              "      <td>969.825745</td>\n",
              "      <td>741.615417</td>\n",
              "      <td>1052.348389</td>\n",
              "      <td>765.505432</td>\n",
              "      <td>1027.579590</td>\n",
              "      <td>851.784302</td>\n",
              "      <td>1099.465942</td>\n",
              "      <td>940.911072</td>\n",
              "      <td>913.893738</td>\n",
              "      <td>624.252991</td>\n",
              "      <td>919.056335</td>\n",
              "      <td>688.514099</td>\n",
              "      <td>1030.898804</td>\n",
              "      <td>692.857239</td>\n",
              "      <td>946.881104</td>\n",
              "      <td>650.376465</td>\n",
              "      <td>974.055969</td>\n",
              "      <td>643.645630</td>\n",
              "      <td>1052.552490</td>\n",
              "      <td>907.364136</td>\n",
              "      <td>1054.926270</td>\n",
              "      <td>913.723877</td>\n",
              "    </tr>\n",
              "    <tr>\n",
              "      <th>1598</th>\n",
              "      <td>786-3-5-41-Z94_E-0000029.jpg</td>\n",
              "      <td>813.032410</td>\n",
              "      <td>600.957642</td>\n",
              "      <td>823.104614</td>\n",
              "      <td>601.114807</td>\n",
              "      <td>841.007629</td>\n",
              "      <td>596.776855</td>\n",
              "      <td>822.830200</td>\n",
              "      <td>601.354431</td>\n",
              "      <td>833.835876</td>\n",
              "      <td>557.638367</td>\n",
              "      <td>833.959167</td>\n",
              "      <td>611.005310</td>\n",
              "      <td>916.492126</td>\n",
              "      <td>619.065918</td>\n",
              "      <td>838.172363</td>\n",
              "      <td>658.914978</td>\n",
              "      <td>988.522156</td>\n",
              "      <td>680.580017</td>\n",
              "      <td>875.593506</td>\n",
              "      <td>674.681824</td>\n",
              "      <td>982.889648</td>\n",
              "      <td>690.622131</td>\n",
              "      <td>943.498596</td>\n",
              "      <td>687.832153</td>\n",
              "      <td>990.675903</td>\n",
              "      <td>687.990356</td>\n",
              "      <td>955.630310</td>\n",
              "      <td>738.411438</td>\n",
              "      <td>1031.806274</td>\n",
              "      <td>764.714294</td>\n",
              "      <td>1011.507385</td>\n",
              "      <td>858.986694</td>\n",
              "      <td>1087.321411</td>\n",
              "      <td>947.821899</td>\n",
              "      <td>900.278015</td>\n",
              "      <td>610.582458</td>\n",
              "      <td>888.688904</td>\n",
              "      <td>687.757690</td>\n",
              "      <td>1009.239563</td>\n",
              "      <td>692.938965</td>\n",
              "      <td>938.112122</td>\n",
              "      <td>633.136780</td>\n",
              "      <td>962.058289</td>\n",
              "      <td>630.249146</td>\n",
              "      <td>1044.515503</td>\n",
              "      <td>921.963684</td>\n",
              "      <td>1036.847412</td>\n",
              "      <td>922.503601</td>\n",
              "    </tr>\n",
              "    <tr>\n",
              "      <th>1599</th>\n",
              "      <td>786-3-5-41-Z94_E-0000031.jpg</td>\n",
              "      <td>814.499451</td>\n",
              "      <td>608.661804</td>\n",
              "      <td>822.795227</td>\n",
              "      <td>611.589539</td>\n",
              "      <td>841.805237</td>\n",
              "      <td>604.298950</td>\n",
              "      <td>824.963135</td>\n",
              "      <td>608.246643</td>\n",
              "      <td>837.355469</td>\n",
              "      <td>563.717957</td>\n",
              "      <td>841.162415</td>\n",
              "      <td>613.984558</td>\n",
              "      <td>917.176453</td>\n",
              "      <td>627.287598</td>\n",
              "      <td>847.471741</td>\n",
              "      <td>665.513367</td>\n",
              "      <td>995.275085</td>\n",
              "      <td>695.111511</td>\n",
              "      <td>893.955200</td>\n",
              "      <td>685.576599</td>\n",
              "      <td>993.496582</td>\n",
              "      <td>705.654480</td>\n",
              "      <td>947.302063</td>\n",
              "      <td>693.645569</td>\n",
              "      <td>995.590271</td>\n",
              "      <td>694.434082</td>\n",
              "      <td>964.647095</td>\n",
              "      <td>746.325867</td>\n",
              "      <td>1036.065186</td>\n",
              "      <td>770.318176</td>\n",
              "      <td>1023.673950</td>\n",
              "      <td>866.017212</td>\n",
              "      <td>1091.279663</td>\n",
              "      <td>951.437866</td>\n",
              "      <td>901.457092</td>\n",
              "      <td>615.523499</td>\n",
              "      <td>906.177368</td>\n",
              "      <td>698.270813</td>\n",
              "      <td>1019.396484</td>\n",
              "      <td>706.675842</td>\n",
              "      <td>939.230286</td>\n",
              "      <td>638.093689</td>\n",
              "      <td>966.813171</td>\n",
              "      <td>633.567993</td>\n",
              "      <td>1054.372070</td>\n",
              "      <td>929.355652</td>\n",
              "      <td>1039.388428</td>\n",
              "      <td>928.572021</td>\n",
              "    </tr>\n",
              "  </tbody>\n",
              "</table>\n",
              "<p>1600 rows × 49 columns</p>\n",
              "</div>"
            ],
            "text/plain": [
              "                              image  ...  right_instep_y\n",
              "0     649-2-4-32-Z148_A-0000001.jpg  ...      644.070679\n",
              "1     649-2-4-32-Z148_A-0000003.jpg  ...      645.942871\n",
              "2     649-2-4-32-Z148_A-0000005.jpg  ...      625.350403\n",
              "3     649-2-4-32-Z148_A-0000007.jpg  ...      652.655518\n",
              "4     649-2-4-32-Z148_A-0000009.jpg  ...      614.353516\n",
              "...                             ...  ...             ...\n",
              "1595   786-3-5-41-Z94_E-0000023.jpg  ...      920.787415\n",
              "1596   786-3-5-41-Z94_E-0000025.jpg  ...      925.775818\n",
              "1597   786-3-5-41-Z94_E-0000027.jpg  ...      913.723877\n",
              "1598   786-3-5-41-Z94_E-0000029.jpg  ...      922.503601\n",
              "1599   786-3-5-41-Z94_E-0000031.jpg  ...      928.572021\n",
              "\n",
              "[1600 rows x 49 columns]"
            ]
          },
          "metadata": {
            "tags": []
          },
          "execution_count": 44
        }
      ]
    },
    {
      "cell_type": "markdown",
      "metadata": {
        "id": "htzZMYVrjGxl"
      },
      "source": [
        "# 예측 결과 시각화"
      ]
    },
    {
      "cell_type": "code",
      "metadata": {
        "colab": {
          "base_uri": "https://localhost:8080/",
          "height": 258
        },
        "id": "BQavqpkQjIs7",
        "outputId": "d547259d-0e96-4b65-fd29-f2c6b885f9e0"
      },
      "source": [
        "# 예측 결과 시각화\r\n",
        "n = random.randint(0, 1600)\r\n",
        "predicted_keypoint = submission.iloc[n,1:49]\r\n",
        "predicted_keypoint = np.array(predicted_keypoint)\r\n",
        "img = Image.open(test_paths[n])\r\n",
        "plt.imshow(img)\r\n",
        "plt.scatter(predicted_keypoint[0::2], predicted_keypoint[1::2], marker='x')"
      ],
      "execution_count": 45,
      "outputs": [
        {
          "output_type": "execute_result",
          "data": {
            "text/plain": [
              "<matplotlib.collections.PathCollection at 0x7fe8d62e6b50>"
            ]
          },
          "metadata": {
            "tags": []
          },
          "execution_count": 45
        },
        {
          "output_type": "display_data",
          "data": {
            "image/png": "[encoded data removed]",
            "text/plain": [
              "<Figure size 432x288 with 1 Axes>"
            ]
          },
          "metadata": {
            "tags": [],
            "needs_background": "light"
          }
        }
      ]
    },
    {
      "cell_type": "code",
      "metadata": {
        "id": "L7IvECgkjJZI"
      },
      "source": [
        ""
      ],
      "execution_count": null,
      "outputs": []
    }
  ]
}