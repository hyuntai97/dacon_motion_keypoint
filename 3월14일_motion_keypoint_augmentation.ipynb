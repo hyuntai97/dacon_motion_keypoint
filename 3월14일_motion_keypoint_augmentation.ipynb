{
  "nbformat": 4,
  "nbformat_minor": 0,
  "metadata": {
    "colab": {
      "name": "3월14일_motion_keypoint_augmentation.ipynb",
      "provenance": [],
      "collapsed_sections": []
    },
    "kernelspec": {
      "name": "python3",
      "display_name": "Python 3"
    }
  },
  "cells": [
    {
      "cell_type": "code",
      "metadata": {
        "id": "0MiXVQMbKUm5"
      },
      "source": [
        "import cv2\r\n",
        "import glob\r\n",
        "import matplotlib.pyplot as plt\r\n",
        "import numpy as np\r\n",
        "import os\r\n",
        "import pandas as pd\r\n",
        "import random\r\n",
        "import shutil\r\n",
        "import tensorflow as tf\r\n",
        "\r\n",
        "from keras.layers.advanced_activations import LeakyReLU, PReLU\r\n",
        "from math import cos, sin, pi\r\n",
        "from PIL import Image\r\n",
        "from tqdm import tqdm\r\n",
        "from tensorflow.keras import Sequential, Model\r\n",
        "from tensorflow.keras.callbacks import ModelCheckpoint, EarlyStopping, ReduceLROnPlateau\r\n",
        "from tensorflow.keras.layers import Activation, Convolution2D, MaxPooling2D, BatchNormalization, Flatten, Dense, Dropout, Conv2D, ZeroPadding2D, GlobalAveragePooling2D\r\n",
        "from tensorflow.keras.models import load_model\r\n",
        "from tensorflow.keras.optimizers import Adam"
      ],
      "execution_count": 1,
      "outputs": []
    },
    {
      "cell_type": "code",
      "metadata": {
        "colab": {
          "base_uri": "https://localhost:8080/"
        },
        "id": "iC2-2KSFKeGM",
        "outputId": "b87a9653-b87b-4afb-f82b-753742031884"
      },
      "source": [
        "from google.colab import drive\r\n",
        "drive.mount('/content/drive')"
      ],
      "execution_count": 2,
      "outputs": [
        {
          "output_type": "stream",
          "text": [
            "Mounted at /content/drive\n"
          ],
          "name": "stdout"
        }
      ]
    },
    {
      "cell_type": "markdown",
      "metadata": {
        "id": "A5v1DPm2VXaa"
      },
      "source": [
        "#data load & train/test split"
      ]
    },
    {
      "cell_type": "code",
      "metadata": {
        "id": "zE_SwpRTKlml"
      },
      "source": [
        "# 경로 이동\r\n",
        "os.chdir('/content/drive/MyDrive/dacon_keypoint_data')"
      ],
      "execution_count": 3,
      "outputs": []
    },
    {
      "cell_type": "code",
      "metadata": {
        "id": "OvFKGCOWK0YH"
      },
      "source": [
        "root_dir = '/content/drive/MyDrive/dacon_keypoint_data'"
      ],
      "execution_count": 4,
      "outputs": []
    },
    {
      "cell_type": "code",
      "metadata": {
        "id": "_ez2RKiGLJIh"
      },
      "source": [
        "os.makedirs(root_dir +'/train')\r\n",
        "os.makedirs(root_dir +'/val')"
      ],
      "execution_count": 5,
      "outputs": []
    },
    {
      "cell_type": "code",
      "metadata": {
        "id": "UQ07LldwLKzn"
      },
      "source": [
        "# validation용 파일은 10% 비율로 random sampling\r\n",
        "random.seed(1)\r\n",
        "src = \"train_imgs\"\r\n",
        "all_filename = os.listdir(src)\r\n"
      ],
      "execution_count": 6,
      "outputs": []
    },
    {
      "cell_type": "code",
      "metadata": {
        "colab": {
          "base_uri": "https://localhost:8080/"
        },
        "id": "jqTE4i4cvkeO",
        "outputId": "524428ee-7fa5-47e9-b30c-aceaa4c9d779"
      },
      "source": [
        "all_filename[:5]"
      ],
      "execution_count": 9,
      "outputs": [
        {
          "output_type": "execute_result",
          "data": {
            "text/plain": [
              "['546-1-2-25-Z134_C-0000005.jpg',\n",
              " '546-1-2-25-Z134_C-0000017.jpg',\n",
              " '546-1-2-25-Z134_C-0000021.jpg',\n",
              " '546-1-2-25-Z134_D-0000007.jpg',\n",
              " '546-1-2-25-Z134_D-0000021.jpg']"
            ]
          },
          "metadata": {
            "tags": []
          },
          "execution_count": 9
        }
      ]
    },
    {
      "cell_type": "code",
      "metadata": {
        "colab": {
          "base_uri": "https://localhost:8080/"
        },
        "id": "U1p5LGoDLxdv",
        "outputId": "3721191b-5eeb-43a4-9ef7-ad18854aeeb5"
      },
      "source": [
        "train_all = glob.glob('train_imgs/*.jpg')\r\n",
        "len(train_all)"
      ],
      "execution_count": 7,
      "outputs": [
        {
          "output_type": "execute_result",
          "data": {
            "text/plain": [
              "4195"
            ]
          },
          "metadata": {
            "tags": []
          },
          "execution_count": 7
        }
      ]
    },
    {
      "cell_type": "code",
      "metadata": {
        "id": "qOvr2nz0LZMN"
      },
      "source": [
        "valid_filename = random.sample(all_filename, int(len(train_all) * 0.1))\r\n",
        "train_filename = [x for x in all_filename if x not in valid_filename]"
      ],
      "execution_count": 8,
      "outputs": []
    },
    {
      "cell_type": "code",
      "metadata": {
        "colab": {
          "base_uri": "https://localhost:8080/"
        },
        "id": "nV9P87TCLaPY",
        "outputId": "af93f599-52fc-4143-e7fa-0f1923484d9e"
      },
      "source": [
        "print(len(train_filename), len(valid_filename))"
      ],
      "execution_count": 10,
      "outputs": [
        {
          "output_type": "stream",
          "text": [
            "3776 419\n"
          ],
          "name": "stdout"
        }
      ]
    },
    {
      "cell_type": "code",
      "metadata": {
        "id": "r0DM2VuuMM7z"
      },
      "source": [
        "train_filename = [src+'/'+ name for name in train_filename]\r\n",
        "valid_filename = [src+'/' + name for name in valid_filename]\r\n"
      ],
      "execution_count": 11,
      "outputs": []
    },
    {
      "cell_type": "code",
      "metadata": {
        "colab": {
          "base_uri": "https://localhost:8080/"
        },
        "id": "_8I8EO7CMQau",
        "outputId": "22bc7364-cfa9-4a46-96a0-125df4d561db"
      },
      "source": [
        "train_filename[:3]"
      ],
      "execution_count": 12,
      "outputs": [
        {
          "output_type": "execute_result",
          "data": {
            "text/plain": [
              "['train_imgs/546-1-2-25-Z134_C-0000005.jpg',\n",
              " 'train_imgs/546-1-2-25-Z134_C-0000017.jpg',\n",
              " 'train_imgs/546-1-2-25-Z134_C-0000021.jpg']"
            ]
          },
          "metadata": {
            "tags": []
          },
          "execution_count": 12
        }
      ]
    },
    {
      "cell_type": "code",
      "metadata": {
        "colab": {
          "base_uri": "https://localhost:8080/"
        },
        "id": "anX5ayQdMSzQ",
        "outputId": "e9efccdd-993e-4049-f8ed-048d226de6e3"
      },
      "source": [
        "valid_filename[:3]"
      ],
      "execution_count": 13,
      "outputs": [
        {
          "output_type": "execute_result",
          "data": {
            "text/plain": [
              "['train_imgs/329-2-1-16-Z57_A-0000019.jpg',\n",
              " 'train_imgs/594-1-3-28-Z134_E-0000029.jpg',\n",
              " 'train_imgs/194-2-1-09-Z36_D-0000003.jpg']"
            ]
          },
          "metadata": {
            "tags": []
          },
          "execution_count": 13
        }
      ]
    },
    {
      "cell_type": "code",
      "metadata": {
        "colab": {
          "base_uri": "https://localhost:8080/"
        },
        "id": "UDh9ibKWMyoL",
        "outputId": "91ae6ed9-a0a9-4544-d4c6-c4d699ee6ac2"
      },
      "source": [
        "print('Total images: ', len(all_filename))\r\n",
        "print('Training: ', len(train_filename))\r\n",
        "print('Validation: ', len(valid_filename))"
      ],
      "execution_count": 14,
      "outputs": [
        {
          "output_type": "stream",
          "text": [
            "Total images:  4195\n",
            "Training:  3776\n",
            "Validation:  419\n"
          ],
          "name": "stdout"
        }
      ]
    },
    {
      "cell_type": "code",
      "metadata": {
        "colab": {
          "base_uri": "https://localhost:8080/"
        },
        "id": "QCr-XwxoM9Bj",
        "outputId": "4cab02d1-26b5-4b81-fc73-1250f2b47077"
      },
      "source": [
        "# copy & paste images ('./train' 과 './val'에 복사 붙여넣기)\r\n",
        "for name in tqdm(train_filename):\r\n",
        "    shutil.copy(name, 'train')\r\n",
        "\r\n",
        "for name in tqdm(valid_filename):\r\n",
        "    shutil.copy(name, 'val')"
      ],
      "execution_count": 15,
      "outputs": [
        {
          "output_type": "stream",
          "text": [
            "100%|██████████| 3776/3776 [15:23<00:00,  4.09it/s]\n",
            "100%|██████████| 419/419 [01:45<00:00,  3.98it/s]\n"
          ],
          "name": "stderr"
        }
      ]
    },
    {
      "cell_type": "code",
      "metadata": {
        "id": "lhk-QkcvM_be"
      },
      "source": [
        "# train, valid folder 속 모든 이미지 파일 read & sort\r\n",
        "train_paths = glob.glob('./train/*.jpg')\r\n",
        "valid_paths = glob.glob('./val/*.jpg')\r\n",
        "train_paths.sort()\r\n",
        "valid_paths.sort()"
      ],
      "execution_count": 16,
      "outputs": []
    },
    {
      "cell_type": "code",
      "metadata": {
        "colab": {
          "base_uri": "https://localhost:8080/"
        },
        "id": "WW--MgLiQyMs",
        "outputId": "c1f13380-eb69-4197-c31c-6ebf313c935a"
      },
      "source": [
        "train_paths[:5]"
      ],
      "execution_count": 17,
      "outputs": [
        {
          "output_type": "execute_result",
          "data": {
            "text/plain": [
              "['./train/001-1-1-01-Z17_A-0000001.jpg',\n",
              " './train/001-1-1-01-Z17_A-0000003.jpg',\n",
              " './train/001-1-1-01-Z17_A-0000005.jpg',\n",
              " './train/001-1-1-01-Z17_A-0000007.jpg',\n",
              " './train/001-1-1-01-Z17_A-0000009.jpg']"
            ]
          },
          "metadata": {
            "tags": []
          },
          "execution_count": 17
        }
      ]
    },
    {
      "cell_type": "code",
      "metadata": {
        "colab": {
          "base_uri": "https://localhost:8080/"
        },
        "id": "e_IgbRWpQy0T",
        "outputId": "0c664007-c874-4f9c-80c9-e96da7719bfd"
      },
      "source": [
        "valid_paths[:5]"
      ],
      "execution_count": 18,
      "outputs": [
        {
          "output_type": "execute_result",
          "data": {
            "text/plain": [
              "['./val/001-1-1-01-Z17_A-0000019.jpg',\n",
              " './val/001-1-1-01-Z17_A-0000021.jpg',\n",
              " './val/001-1-1-01-Z17_D-0000005.jpg',\n",
              " './val/001-1-1-01-Z17_D-0000019.jpg',\n",
              " './val/001-1-1-01-Z17_E-0000009.jpg']"
            ]
          },
          "metadata": {
            "tags": []
          },
          "execution_count": 18
        }
      ]
    },
    {
      "cell_type": "code",
      "metadata": {
        "colab": {
          "base_uri": "https://localhost:8080/"
        },
        "id": "4acIfCTbQ1hj",
        "outputId": "b97f9d26-7d7f-4b89-cd02-2c23c2fd3dd9"
      },
      "source": [
        "train_filename_ = []\r\n",
        "valid_filename_ = []\r\n",
        "\r\n",
        "for t_paths in tqdm(train_paths):\r\n",
        "    filename = t_paths.split('/')[-1]\r\n",
        "    train_filename_.append(filename)\r\n",
        "\r\n",
        "for v_paths in tqdm(valid_paths):\r\n",
        "    filename = v_paths.split('/')[-1]\r\n",
        "    valid_filename_.append(filename)"
      ],
      "execution_count": 19,
      "outputs": [
        {
          "output_type": "stream",
          "text": [
            "100%|██████████| 3776/3776 [00:00<00:00, 545581.73it/s]\n",
            "100%|██████████| 419/419 [00:00<00:00, 279709.28it/s]\n"
          ],
          "name": "stderr"
        }
      ]
    },
    {
      "cell_type": "code",
      "metadata": {
        "colab": {
          "base_uri": "https://localhost:8080/"
        },
        "id": "7GhfFUReRSzz",
        "outputId": "a12dd0ab-0703-47aa-fffe-dad692f7ae46"
      },
      "source": [
        "print(train_filename_[:5])\r\n",
        "print(valid_filename_[:5])"
      ],
      "execution_count": 20,
      "outputs": [
        {
          "output_type": "stream",
          "text": [
            "['001-1-1-01-Z17_A-0000001.jpg', '001-1-1-01-Z17_A-0000003.jpg', '001-1-1-01-Z17_A-0000005.jpg', '001-1-1-01-Z17_A-0000007.jpg', '001-1-1-01-Z17_A-0000009.jpg']\n",
            "['001-1-1-01-Z17_A-0000019.jpg', '001-1-1-01-Z17_A-0000021.jpg', '001-1-1-01-Z17_D-0000005.jpg', '001-1-1-01-Z17_D-0000019.jpg', '001-1-1-01-Z17_E-0000009.jpg']\n"
          ],
          "name": "stdout"
        }
      ]
    },
    {
      "cell_type": "code",
      "metadata": {
        "id": "ZZoR8yfFTfBn"
      },
      "source": [
        "# train_df.csv\r\n",
        "train = pd.read_csv('train_df.csv')"
      ],
      "execution_count": 21,
      "outputs": []
    },
    {
      "cell_type": "code",
      "metadata": {
        "colab": {
          "base_uri": "https://localhost:8080/",
          "height": 257
        },
        "id": "f9pH1hgYTrBE",
        "outputId": "06026277-2b53-4c30-dcb3-5a5ffd478056"
      },
      "source": [
        "train.head(3)"
      ],
      "execution_count": 22,
      "outputs": [
        {
          "output_type": "execute_result",
          "data": {
            "text/html": [
              "<div>\n",
              "<style scoped>\n",
              "    .dataframe tbody tr th:only-of-type {\n",
              "        vertical-align: middle;\n",
              "    }\n",
              "\n",
              "    .dataframe tbody tr th {\n",
              "        vertical-align: top;\n",
              "    }\n",
              "\n",
              "    .dataframe thead th {\n",
              "        text-align: right;\n",
              "    }\n",
              "</style>\n",
              "<table border=\"1\" class=\"dataframe\">\n",
              "  <thead>\n",
              "    <tr style=\"text-align: right;\">\n",
              "      <th></th>\n",
              "      <th>image</th>\n",
              "      <th>nose_x</th>\n",
              "      <th>nose_y</th>\n",
              "      <th>left_eye_x</th>\n",
              "      <th>left_eye_y</th>\n",
              "      <th>right_eye_x</th>\n",
              "      <th>right_eye_y</th>\n",
              "      <th>left_ear_x</th>\n",
              "      <th>left_ear_y</th>\n",
              "      <th>right_ear_x</th>\n",
              "      <th>right_ear_y</th>\n",
              "      <th>left_shoulder_x</th>\n",
              "      <th>left_shoulder_y</th>\n",
              "      <th>right_shoulder_x</th>\n",
              "      <th>right_shoulder_y</th>\n",
              "      <th>left_elbow_x</th>\n",
              "      <th>left_elbow_y</th>\n",
              "      <th>right_elbow_x</th>\n",
              "      <th>right_elbow_y</th>\n",
              "      <th>left_wrist_x</th>\n",
              "      <th>left_wrist_y</th>\n",
              "      <th>right_wrist_x</th>\n",
              "      <th>right_wrist_y</th>\n",
              "      <th>left_hip_x</th>\n",
              "      <th>left_hip_y</th>\n",
              "      <th>right_hip_x</th>\n",
              "      <th>right_hip_y</th>\n",
              "      <th>left_knee_x</th>\n",
              "      <th>left_knee_y</th>\n",
              "      <th>right_knee_x</th>\n",
              "      <th>right_knee_y</th>\n",
              "      <th>left_ankle_x</th>\n",
              "      <th>left_ankle_y</th>\n",
              "      <th>right_ankle_x</th>\n",
              "      <th>right_ankle_y</th>\n",
              "      <th>neck_x</th>\n",
              "      <th>neck_y</th>\n",
              "      <th>left_palm_x</th>\n",
              "      <th>left_palm_y</th>\n",
              "      <th>right_palm_x</th>\n",
              "      <th>right_palm_y</th>\n",
              "      <th>spine2(back)_x</th>\n",
              "      <th>spine2(back)_y</th>\n",
              "      <th>spine1(waist)_x</th>\n",
              "      <th>spine1(waist)_y</th>\n",
              "      <th>left_instep_x</th>\n",
              "      <th>left_instep_y</th>\n",
              "      <th>right_instep_x</th>\n",
              "      <th>right_instep_y</th>\n",
              "    </tr>\n",
              "  </thead>\n",
              "  <tbody>\n",
              "    <tr>\n",
              "      <th>0</th>\n",
              "      <td>001-1-1-01-Z17_A-0000001.jpg</td>\n",
              "      <td>1046.389631</td>\n",
              "      <td>344.757881</td>\n",
              "      <td>1041.655294</td>\n",
              "      <td>329.820225</td>\n",
              "      <td>1059.429507</td>\n",
              "      <td>334.484230</td>\n",
              "      <td>1020.117796</td>\n",
              "      <td>338.890539</td>\n",
              "      <td>1048.000000</td>\n",
              "      <td>343.000000</td>\n",
              "      <td>992.0</td>\n",
              "      <td>394.0</td>\n",
              "      <td>1054.0</td>\n",
              "      <td>400.0</td>\n",
              "      <td>956.0</td>\n",
              "      <td>368.0</td>\n",
              "      <td>1134.0</td>\n",
              "      <td>371.0</td>\n",
              "      <td>1003.497242</td>\n",
              "      <td>327.640085</td>\n",
              "      <td>1078.0</td>\n",
              "      <td>341.0</td>\n",
              "      <td>999.0</td>\n",
              "      <td>570.0</td>\n",
              "      <td>1046.0</td>\n",
              "      <td>573.0</td>\n",
              "      <td>995.0</td>\n",
              "      <td>695.0</td>\n",
              "      <td>1054.0</td>\n",
              "      <td>698.0</td>\n",
              "      <td>983.000000</td>\n",
              "      <td>820.000000</td>\n",
              "      <td>1042.0</td>\n",
              "      <td>829.0</td>\n",
              "      <td>1019.107277</td>\n",
              "      <td>373.766222</td>\n",
              "      <td>1013.137360</td>\n",
              "      <td>316.311695</td>\n",
              "      <td>1067.00000</td>\n",
              "      <td>335.0</td>\n",
              "      <td>1019.484230</td>\n",
              "      <td>455.000000</td>\n",
              "      <td>1026.515770</td>\n",
              "      <td>514.054730</td>\n",
              "      <td>998.578836</td>\n",
              "      <td>826.718013</td>\n",
              "      <td>1063.204067</td>\n",
              "      <td>838.827465</td>\n",
              "    </tr>\n",
              "    <tr>\n",
              "      <th>1</th>\n",
              "      <td>001-1-1-01-Z17_A-0000003.jpg</td>\n",
              "      <td>1069.850679</td>\n",
              "      <td>340.711494</td>\n",
              "      <td>1058.608552</td>\n",
              "      <td>324.593690</td>\n",
              "      <td>1075.242111</td>\n",
              "      <td>325.593690</td>\n",
              "      <td>1041.422997</td>\n",
              "      <td>331.694815</td>\n",
              "      <td>1065.593682</td>\n",
              "      <td>333.968459</td>\n",
              "      <td>1010.0</td>\n",
              "      <td>398.0</td>\n",
              "      <td>1077.0</td>\n",
              "      <td>386.0</td>\n",
              "      <td>974.0</td>\n",
              "      <td>398.0</td>\n",
              "      <td>1144.0</td>\n",
              "      <td>337.0</td>\n",
              "      <td>1004.000000</td>\n",
              "      <td>346.000000</td>\n",
              "      <td>1094.0</td>\n",
              "      <td>326.0</td>\n",
              "      <td>1020.0</td>\n",
              "      <td>557.0</td>\n",
              "      <td>1069.0</td>\n",
              "      <td>567.0</td>\n",
              "      <td>1013.0</td>\n",
              "      <td>583.0</td>\n",
              "      <td>1072.0</td>\n",
              "      <td>697.0</td>\n",
              "      <td>1003.843781</td>\n",
              "      <td>678.797029</td>\n",
              "      <td>1042.0</td>\n",
              "      <td>829.0</td>\n",
              "      <td>1047.279440</td>\n",
              "      <td>362.031898</td>\n",
              "      <td>1017.383112</td>\n",
              "      <td>332.890539</td>\n",
              "      <td>1081.18738</td>\n",
              "      <td>323.0</td>\n",
              "      <td>1046.953248</td>\n",
              "      <td>454.062706</td>\n",
              "      <td>1058.766231</td>\n",
              "      <td>508.797029</td>\n",
              "      <td>1002.265676</td>\n",
              "      <td>699.062706</td>\n",
              "      <td>1066.376234</td>\n",
              "      <td>841.499445</td>\n",
              "    </tr>\n",
              "    <tr>\n",
              "      <th>2</th>\n",
              "      <td>001-1-1-01-Z17_A-0000005.jpg</td>\n",
              "      <td>1084.475902</td>\n",
              "      <td>337.000008</td>\n",
              "      <td>1078.717997</td>\n",
              "      <td>323.757889</td>\n",
              "      <td>1095.648412</td>\n",
              "      <td>325.242119</td>\n",
              "      <td>1061.039884</td>\n",
              "      <td>329.351571</td>\n",
              "      <td>1086.461032</td>\n",
              "      <td>334.109461</td>\n",
              "      <td>1020.0</td>\n",
              "      <td>381.0</td>\n",
              "      <td>1083.0</td>\n",
              "      <td>389.0</td>\n",
              "      <td>984.0</td>\n",
              "      <td>362.0</td>\n",
              "      <td>1163.0</td>\n",
              "      <td>372.0</td>\n",
              "      <td>1027.507419</td>\n",
              "      <td>327.383120</td>\n",
              "      <td>1111.0</td>\n",
              "      <td>340.0</td>\n",
              "      <td>1016.0</td>\n",
              "      <td>552.0</td>\n",
              "      <td>1061.0</td>\n",
              "      <td>556.0</td>\n",
              "      <td>1018.0</td>\n",
              "      <td>674.0</td>\n",
              "      <td>1070.0</td>\n",
              "      <td>696.0</td>\n",
              "      <td>987.703151</td>\n",
              "      <td>788.867342</td>\n",
              "      <td>1044.0</td>\n",
              "      <td>826.0</td>\n",
              "      <td>1063.029716</td>\n",
              "      <td>358.679953</td>\n",
              "      <td>1042.374777</td>\n",
              "      <td>319.031541</td>\n",
              "      <td>1101.00000</td>\n",
              "      <td>334.0</td>\n",
              "      <td>1044.538960</td>\n",
              "      <td>442.054730</td>\n",
              "      <td>1052.844144</td>\n",
              "      <td>495.890539</td>\n",
              "      <td>989.437847</td>\n",
              "      <td>808.757889</td>\n",
              "      <td>1066.071417</td>\n",
              "      <td>841.749554</td>\n",
              "    </tr>\n",
              "  </tbody>\n",
              "</table>\n",
              "</div>"
            ],
            "text/plain": [
              "                          image       nose_x  ...  right_instep_x  right_instep_y\n",
              "0  001-1-1-01-Z17_A-0000001.jpg  1046.389631  ...     1063.204067      838.827465\n",
              "1  001-1-1-01-Z17_A-0000003.jpg  1069.850679  ...     1066.376234      841.499445\n",
              "2  001-1-1-01-Z17_A-0000005.jpg  1084.475902  ...     1066.071417      841.749554\n",
              "\n",
              "[3 rows x 49 columns]"
            ]
          },
          "metadata": {
            "tags": []
          },
          "execution_count": 22
        }
      ]
    },
    {
      "cell_type": "code",
      "metadata": {
        "id": "p1TgDIyURW_D"
      },
      "source": [
        "# 각각의 train, valid 이미지들의 정보만을 담고 있는 DataFrame 생성\r\n",
        "train_df = train[train['image'].isin(train_filename_)]\r\n",
        "train_df.reset_index(inplace=True, drop=True)\r\n",
        "\r\n",
        "valid_df = train[train['image'].isin(valid_filename_)]\r\n",
        "valid_df.reset_index(inplace=True, drop=True)\r\n",
        "\r\n",
        "train_df.to_csv('train.csv', index=False)\r\n",
        "valid_df.to_csv('valid.csv', index=False)"
      ],
      "execution_count": 23,
      "outputs": []
    },
    {
      "cell_type": "code",
      "metadata": {
        "colab": {
          "base_uri": "https://localhost:8080/",
          "height": 257
        },
        "id": "ZIla1ntoRuDN",
        "outputId": "2da2a6f1-e16a-46ee-f8a9-03260c7fc091"
      },
      "source": [
        "train_df.head(3)"
      ],
      "execution_count": 24,
      "outputs": [
        {
          "output_type": "execute_result",
          "data": {
            "text/html": [
              "<div>\n",
              "<style scoped>\n",
              "    .dataframe tbody tr th:only-of-type {\n",
              "        vertical-align: middle;\n",
              "    }\n",
              "\n",
              "    .dataframe tbody tr th {\n",
              "        vertical-align: top;\n",
              "    }\n",
              "\n",
              "    .dataframe thead th {\n",
              "        text-align: right;\n",
              "    }\n",
              "</style>\n",
              "<table border=\"1\" class=\"dataframe\">\n",
              "  <thead>\n",
              "    <tr style=\"text-align: right;\">\n",
              "      <th></th>\n",
              "      <th>image</th>\n",
              "      <th>nose_x</th>\n",
              "      <th>nose_y</th>\n",
              "      <th>left_eye_x</th>\n",
              "      <th>left_eye_y</th>\n",
              "      <th>right_eye_x</th>\n",
              "      <th>right_eye_y</th>\n",
              "      <th>left_ear_x</th>\n",
              "      <th>left_ear_y</th>\n",
              "      <th>right_ear_x</th>\n",
              "      <th>right_ear_y</th>\n",
              "      <th>left_shoulder_x</th>\n",
              "      <th>left_shoulder_y</th>\n",
              "      <th>right_shoulder_x</th>\n",
              "      <th>right_shoulder_y</th>\n",
              "      <th>left_elbow_x</th>\n",
              "      <th>left_elbow_y</th>\n",
              "      <th>right_elbow_x</th>\n",
              "      <th>right_elbow_y</th>\n",
              "      <th>left_wrist_x</th>\n",
              "      <th>left_wrist_y</th>\n",
              "      <th>right_wrist_x</th>\n",
              "      <th>right_wrist_y</th>\n",
              "      <th>left_hip_x</th>\n",
              "      <th>left_hip_y</th>\n",
              "      <th>right_hip_x</th>\n",
              "      <th>right_hip_y</th>\n",
              "      <th>left_knee_x</th>\n",
              "      <th>left_knee_y</th>\n",
              "      <th>right_knee_x</th>\n",
              "      <th>right_knee_y</th>\n",
              "      <th>left_ankle_x</th>\n",
              "      <th>left_ankle_y</th>\n",
              "      <th>right_ankle_x</th>\n",
              "      <th>right_ankle_y</th>\n",
              "      <th>neck_x</th>\n",
              "      <th>neck_y</th>\n",
              "      <th>left_palm_x</th>\n",
              "      <th>left_palm_y</th>\n",
              "      <th>right_palm_x</th>\n",
              "      <th>right_palm_y</th>\n",
              "      <th>spine2(back)_x</th>\n",
              "      <th>spine2(back)_y</th>\n",
              "      <th>spine1(waist)_x</th>\n",
              "      <th>spine1(waist)_y</th>\n",
              "      <th>left_instep_x</th>\n",
              "      <th>left_instep_y</th>\n",
              "      <th>right_instep_x</th>\n",
              "      <th>right_instep_y</th>\n",
              "    </tr>\n",
              "  </thead>\n",
              "  <tbody>\n",
              "    <tr>\n",
              "      <th>0</th>\n",
              "      <td>001-1-1-01-Z17_A-0000001.jpg</td>\n",
              "      <td>1046.389631</td>\n",
              "      <td>344.757881</td>\n",
              "      <td>1041.655294</td>\n",
              "      <td>329.820225</td>\n",
              "      <td>1059.429507</td>\n",
              "      <td>334.484230</td>\n",
              "      <td>1020.117796</td>\n",
              "      <td>338.890539</td>\n",
              "      <td>1048.000000</td>\n",
              "      <td>343.000000</td>\n",
              "      <td>992.0</td>\n",
              "      <td>394.0</td>\n",
              "      <td>1054.0</td>\n",
              "      <td>400.0</td>\n",
              "      <td>956.0</td>\n",
              "      <td>368.0</td>\n",
              "      <td>1134.0</td>\n",
              "      <td>371.0</td>\n",
              "      <td>1003.497242</td>\n",
              "      <td>327.640085</td>\n",
              "      <td>1078.0</td>\n",
              "      <td>341.0</td>\n",
              "      <td>999.0</td>\n",
              "      <td>570.0</td>\n",
              "      <td>1046.0</td>\n",
              "      <td>573.0</td>\n",
              "      <td>995.0</td>\n",
              "      <td>695.0</td>\n",
              "      <td>1054.0</td>\n",
              "      <td>698.0</td>\n",
              "      <td>983.000000</td>\n",
              "      <td>820.000000</td>\n",
              "      <td>1042.0</td>\n",
              "      <td>829.0</td>\n",
              "      <td>1019.107277</td>\n",
              "      <td>373.766222</td>\n",
              "      <td>1013.137360</td>\n",
              "      <td>316.311695</td>\n",
              "      <td>1067.00000</td>\n",
              "      <td>335.0</td>\n",
              "      <td>1019.484230</td>\n",
              "      <td>455.000000</td>\n",
              "      <td>1026.515770</td>\n",
              "      <td>514.054730</td>\n",
              "      <td>998.578836</td>\n",
              "      <td>826.718013</td>\n",
              "      <td>1063.204067</td>\n",
              "      <td>838.827465</td>\n",
              "    </tr>\n",
              "    <tr>\n",
              "      <th>1</th>\n",
              "      <td>001-1-1-01-Z17_A-0000003.jpg</td>\n",
              "      <td>1069.850679</td>\n",
              "      <td>340.711494</td>\n",
              "      <td>1058.608552</td>\n",
              "      <td>324.593690</td>\n",
              "      <td>1075.242111</td>\n",
              "      <td>325.593690</td>\n",
              "      <td>1041.422997</td>\n",
              "      <td>331.694815</td>\n",
              "      <td>1065.593682</td>\n",
              "      <td>333.968459</td>\n",
              "      <td>1010.0</td>\n",
              "      <td>398.0</td>\n",
              "      <td>1077.0</td>\n",
              "      <td>386.0</td>\n",
              "      <td>974.0</td>\n",
              "      <td>398.0</td>\n",
              "      <td>1144.0</td>\n",
              "      <td>337.0</td>\n",
              "      <td>1004.000000</td>\n",
              "      <td>346.000000</td>\n",
              "      <td>1094.0</td>\n",
              "      <td>326.0</td>\n",
              "      <td>1020.0</td>\n",
              "      <td>557.0</td>\n",
              "      <td>1069.0</td>\n",
              "      <td>567.0</td>\n",
              "      <td>1013.0</td>\n",
              "      <td>583.0</td>\n",
              "      <td>1072.0</td>\n",
              "      <td>697.0</td>\n",
              "      <td>1003.843781</td>\n",
              "      <td>678.797029</td>\n",
              "      <td>1042.0</td>\n",
              "      <td>829.0</td>\n",
              "      <td>1047.279440</td>\n",
              "      <td>362.031898</td>\n",
              "      <td>1017.383112</td>\n",
              "      <td>332.890539</td>\n",
              "      <td>1081.18738</td>\n",
              "      <td>323.0</td>\n",
              "      <td>1046.953248</td>\n",
              "      <td>454.062706</td>\n",
              "      <td>1058.766231</td>\n",
              "      <td>508.797029</td>\n",
              "      <td>1002.265676</td>\n",
              "      <td>699.062706</td>\n",
              "      <td>1066.376234</td>\n",
              "      <td>841.499445</td>\n",
              "    </tr>\n",
              "    <tr>\n",
              "      <th>2</th>\n",
              "      <td>001-1-1-01-Z17_A-0000005.jpg</td>\n",
              "      <td>1084.475902</td>\n",
              "      <td>337.000008</td>\n",
              "      <td>1078.717997</td>\n",
              "      <td>323.757889</td>\n",
              "      <td>1095.648412</td>\n",
              "      <td>325.242119</td>\n",
              "      <td>1061.039884</td>\n",
              "      <td>329.351571</td>\n",
              "      <td>1086.461032</td>\n",
              "      <td>334.109461</td>\n",
              "      <td>1020.0</td>\n",
              "      <td>381.0</td>\n",
              "      <td>1083.0</td>\n",
              "      <td>389.0</td>\n",
              "      <td>984.0</td>\n",
              "      <td>362.0</td>\n",
              "      <td>1163.0</td>\n",
              "      <td>372.0</td>\n",
              "      <td>1027.507419</td>\n",
              "      <td>327.383120</td>\n",
              "      <td>1111.0</td>\n",
              "      <td>340.0</td>\n",
              "      <td>1016.0</td>\n",
              "      <td>552.0</td>\n",
              "      <td>1061.0</td>\n",
              "      <td>556.0</td>\n",
              "      <td>1018.0</td>\n",
              "      <td>674.0</td>\n",
              "      <td>1070.0</td>\n",
              "      <td>696.0</td>\n",
              "      <td>987.703151</td>\n",
              "      <td>788.867342</td>\n",
              "      <td>1044.0</td>\n",
              "      <td>826.0</td>\n",
              "      <td>1063.029716</td>\n",
              "      <td>358.679953</td>\n",
              "      <td>1042.374777</td>\n",
              "      <td>319.031541</td>\n",
              "      <td>1101.00000</td>\n",
              "      <td>334.0</td>\n",
              "      <td>1044.538960</td>\n",
              "      <td>442.054730</td>\n",
              "      <td>1052.844144</td>\n",
              "      <td>495.890539</td>\n",
              "      <td>989.437847</td>\n",
              "      <td>808.757889</td>\n",
              "      <td>1066.071417</td>\n",
              "      <td>841.749554</td>\n",
              "    </tr>\n",
              "  </tbody>\n",
              "</table>\n",
              "</div>"
            ],
            "text/plain": [
              "                          image       nose_x  ...  right_instep_x  right_instep_y\n",
              "0  001-1-1-01-Z17_A-0000001.jpg  1046.389631  ...     1063.204067      838.827465\n",
              "1  001-1-1-01-Z17_A-0000003.jpg  1069.850679  ...     1066.376234      841.499445\n",
              "2  001-1-1-01-Z17_A-0000005.jpg  1084.475902  ...     1066.071417      841.749554\n",
              "\n",
              "[3 rows x 49 columns]"
            ]
          },
          "metadata": {
            "tags": []
          },
          "execution_count": 24
        }
      ]
    },
    {
      "cell_type": "code",
      "metadata": {
        "colab": {
          "base_uri": "https://localhost:8080/",
          "height": 257
        },
        "id": "oBaY40NtT1aG",
        "outputId": "9d6a8ef0-69df-4756-afbe-60df98c2ff46"
      },
      "source": [
        "valid_df.head(3)"
      ],
      "execution_count": 25,
      "outputs": [
        {
          "output_type": "execute_result",
          "data": {
            "text/html": [
              "<div>\n",
              "<style scoped>\n",
              "    .dataframe tbody tr th:only-of-type {\n",
              "        vertical-align: middle;\n",
              "    }\n",
              "\n",
              "    .dataframe tbody tr th {\n",
              "        vertical-align: top;\n",
              "    }\n",
              "\n",
              "    .dataframe thead th {\n",
              "        text-align: right;\n",
              "    }\n",
              "</style>\n",
              "<table border=\"1\" class=\"dataframe\">\n",
              "  <thead>\n",
              "    <tr style=\"text-align: right;\">\n",
              "      <th></th>\n",
              "      <th>image</th>\n",
              "      <th>nose_x</th>\n",
              "      <th>nose_y</th>\n",
              "      <th>left_eye_x</th>\n",
              "      <th>left_eye_y</th>\n",
              "      <th>right_eye_x</th>\n",
              "      <th>right_eye_y</th>\n",
              "      <th>left_ear_x</th>\n",
              "      <th>left_ear_y</th>\n",
              "      <th>right_ear_x</th>\n",
              "      <th>right_ear_y</th>\n",
              "      <th>left_shoulder_x</th>\n",
              "      <th>left_shoulder_y</th>\n",
              "      <th>right_shoulder_x</th>\n",
              "      <th>right_shoulder_y</th>\n",
              "      <th>left_elbow_x</th>\n",
              "      <th>left_elbow_y</th>\n",
              "      <th>right_elbow_x</th>\n",
              "      <th>right_elbow_y</th>\n",
              "      <th>left_wrist_x</th>\n",
              "      <th>left_wrist_y</th>\n",
              "      <th>right_wrist_x</th>\n",
              "      <th>right_wrist_y</th>\n",
              "      <th>left_hip_x</th>\n",
              "      <th>left_hip_y</th>\n",
              "      <th>right_hip_x</th>\n",
              "      <th>right_hip_y</th>\n",
              "      <th>left_knee_x</th>\n",
              "      <th>left_knee_y</th>\n",
              "      <th>right_knee_x</th>\n",
              "      <th>right_knee_y</th>\n",
              "      <th>left_ankle_x</th>\n",
              "      <th>left_ankle_y</th>\n",
              "      <th>right_ankle_x</th>\n",
              "      <th>right_ankle_y</th>\n",
              "      <th>neck_x</th>\n",
              "      <th>neck_y</th>\n",
              "      <th>left_palm_x</th>\n",
              "      <th>left_palm_y</th>\n",
              "      <th>right_palm_x</th>\n",
              "      <th>right_palm_y</th>\n",
              "      <th>spine2(back)_x</th>\n",
              "      <th>spine2(back)_y</th>\n",
              "      <th>spine1(waist)_x</th>\n",
              "      <th>spine1(waist)_y</th>\n",
              "      <th>left_instep_x</th>\n",
              "      <th>left_instep_y</th>\n",
              "      <th>right_instep_x</th>\n",
              "      <th>right_instep_y</th>\n",
              "    </tr>\n",
              "  </thead>\n",
              "  <tbody>\n",
              "    <tr>\n",
              "      <th>0</th>\n",
              "      <td>001-1-1-01-Z17_A-0000019.jpg</td>\n",
              "      <td>1065.179061</td>\n",
              "      <td>358.343236</td>\n",
              "      <td>1061.829299</td>\n",
              "      <td>345.711494</td>\n",
              "      <td>1079.242111</td>\n",
              "      <td>354.484230</td>\n",
              "      <td>1046.766225</td>\n",
              "      <td>349.242119</td>\n",
              "      <td>1074.000000</td>\n",
              "      <td>361.000000</td>\n",
              "      <td>988.0</td>\n",
              "      <td>393.0</td>\n",
              "      <td>1053.593698</td>\n",
              "      <td>421.602042</td>\n",
              "      <td>955.0</td>\n",
              "      <td>337.0</td>\n",
              "      <td>1134.890539</td>\n",
              "      <td>447.351588</td>\n",
              "      <td>998.296841</td>\n",
              "      <td>330.296841</td>\n",
              "      <td>1102.0</td>\n",
              "      <td>390.000000</td>\n",
              "      <td>977.0</td>\n",
              "      <td>564.0</td>\n",
              "      <td>1013.0</td>\n",
              "      <td>557.0</td>\n",
              "      <td>1005.0</td>\n",
              "      <td>693.0</td>\n",
              "      <td>1154.0</td>\n",
              "      <td>573.0</td>\n",
              "      <td>1012.867334</td>\n",
              "      <td>814.538960</td>\n",
              "      <td>1128.543898</td>\n",
              "      <td>689.481188</td>\n",
              "      <td>1040.498339</td>\n",
              "      <td>378.495250</td>\n",
              "      <td>1006.242119</td>\n",
              "      <td>333.515762</td>\n",
              "      <td>1090.781079</td>\n",
              "      <td>378.000000</td>\n",
              "      <td>1001.355781</td>\n",
              "      <td>455.518812</td>\n",
              "      <td>1006.025086</td>\n",
              "      <td>505.481188</td>\n",
              "      <td>1021.602034</td>\n",
              "      <td>827.936934</td>\n",
              "      <td>1146.844885</td>\n",
              "      <td>715.518800</td>\n",
              "    </tr>\n",
              "    <tr>\n",
              "      <th>1</th>\n",
              "      <td>001-1-1-01-Z17_A-0000021.jpg</td>\n",
              "      <td>1056.522273</td>\n",
              "      <td>338.351579</td>\n",
              "      <td>1049.189222</td>\n",
              "      <td>327.155856</td>\n",
              "      <td>1065.694823</td>\n",
              "      <td>326.648437</td>\n",
              "      <td>1032.524106</td>\n",
              "      <td>332.265324</td>\n",
              "      <td>1066.000000</td>\n",
              "      <td>338.000000</td>\n",
              "      <td>1006.0</td>\n",
              "      <td>402.0</td>\n",
              "      <td>1076.000000</td>\n",
              "      <td>400.000000</td>\n",
              "      <td>955.0</td>\n",
              "      <td>373.0</td>\n",
              "      <td>1160.000000</td>\n",
              "      <td>377.000000</td>\n",
              "      <td>987.507427</td>\n",
              "      <td>344.570501</td>\n",
              "      <td>1109.0</td>\n",
              "      <td>344.187388</td>\n",
              "      <td>1025.0</td>\n",
              "      <td>577.0</td>\n",
              "      <td>1076.0</td>\n",
              "      <td>579.0</td>\n",
              "      <td>1019.0</td>\n",
              "      <td>698.0</td>\n",
              "      <td>1073.0</td>\n",
              "      <td>704.0</td>\n",
              "      <td>1011.757881</td>\n",
              "      <td>812.562157</td>\n",
              "      <td>1072.000000</td>\n",
              "      <td>825.000000</td>\n",
              "      <td>1046.678128</td>\n",
              "      <td>366.492573</td>\n",
              "      <td>996.507427</td>\n",
              "      <td>342.492573</td>\n",
              "      <td>1095.132650</td>\n",
              "      <td>339.593690</td>\n",
              "      <td>1043.999988</td>\n",
              "      <td>460.506263</td>\n",
              "      <td>1058.137956</td>\n",
              "      <td>516.468616</td>\n",
              "      <td>1021.711494</td>\n",
              "      <td>826.014854</td>\n",
              "      <td>1093.519317</td>\n",
              "      <td>837.682034</td>\n",
              "    </tr>\n",
              "    <tr>\n",
              "      <th>2</th>\n",
              "      <td>001-1-1-01-Z17_D-0000005.jpg</td>\n",
              "      <td>889.000000</td>\n",
              "      <td>347.109461</td>\n",
              "      <td>901.000000</td>\n",
              "      <td>335.000000</td>\n",
              "      <td>883.000000</td>\n",
              "      <td>336.000000</td>\n",
              "      <td>934.000000</td>\n",
              "      <td>346.000000</td>\n",
              "      <td>906.610377</td>\n",
              "      <td>347.726348</td>\n",
              "      <td>948.0</td>\n",
              "      <td>408.0</td>\n",
              "      <td>883.000000</td>\n",
              "      <td>418.000000</td>\n",
              "      <td>1001.0</td>\n",
              "      <td>365.0</td>\n",
              "      <td>836.000000</td>\n",
              "      <td>408.000000</td>\n",
              "      <td>955.000000</td>\n",
              "      <td>340.000000</td>\n",
              "      <td>865.0</td>\n",
              "      <td>366.913745</td>\n",
              "      <td>954.0</td>\n",
              "      <td>577.0</td>\n",
              "      <td>905.0</td>\n",
              "      <td>588.0</td>\n",
              "      <td>963.0</td>\n",
              "      <td>695.0</td>\n",
              "      <td>912.0</td>\n",
              "      <td>724.0</td>\n",
              "      <td>1001.000000</td>\n",
              "      <td>822.000000</td>\n",
              "      <td>941.000000</td>\n",
              "      <td>845.000000</td>\n",
              "      <td>919.516871</td>\n",
              "      <td>382.578860</td>\n",
              "      <td>947.054730</td>\n",
              "      <td>342.383112</td>\n",
              "      <td>876.679961</td>\n",
              "      <td>360.616888</td>\n",
              "      <td>924.050172</td>\n",
              "      <td>469.000000</td>\n",
              "      <td>920.443565</td>\n",
              "      <td>528.025098</td>\n",
              "      <td>999.507427</td>\n",
              "      <td>849.109461</td>\n",
              "      <td>922.741202</td>\n",
              "      <td>867.593682</td>\n",
              "    </tr>\n",
              "  </tbody>\n",
              "</table>\n",
              "</div>"
            ],
            "text/plain": [
              "                          image       nose_x  ...  right_instep_x  right_instep_y\n",
              "0  001-1-1-01-Z17_A-0000019.jpg  1065.179061  ...     1146.844885      715.518800\n",
              "1  001-1-1-01-Z17_A-0000021.jpg  1056.522273  ...     1093.519317      837.682034\n",
              "2  001-1-1-01-Z17_D-0000005.jpg   889.000000  ...      922.741202      867.593682\n",
              "\n",
              "[3 rows x 49 columns]"
            ]
          },
          "metadata": {
            "tags": []
          },
          "execution_count": 25
        }
      ]
    },
    {
      "cell_type": "code",
      "metadata": {
        "colab": {
          "base_uri": "https://localhost:8080/"
        },
        "id": "WJwDpo7eT2n1",
        "outputId": "da22b874-e219-4245-dd3f-6289b6b1f8f8"
      },
      "source": [
        "# 최종 train, val, test\r\n",
        "train = pd.read_csv('./train.csv')\r\n",
        "valid = pd.read_csv('./valid.csv')\r\n",
        "\r\n",
        "train_paths = glob.glob('./train/*.jpg')\r\n",
        "valid_paths = glob.glob('./val/*.jpg')\r\n",
        "test_paths = glob.glob('./test_imgs/*.jpg')\r\n",
        "print(len(train_paths), len(valid_paths), len(test_paths))\r\n",
        "\r\n",
        "train_paths.sort()\r\n",
        "valid_paths.sort()\r\n",
        "test_paths.sort()\r\n",
        "\r\n",
        "train['path'] = train_paths\r\n",
        "valid['path'] = valid_paths"
      ],
      "execution_count": 26,
      "outputs": [
        {
          "output_type": "stream",
          "text": [
            "3776 419 1600\n"
          ],
          "name": "stdout"
        }
      ]
    },
    {
      "cell_type": "markdown",
      "metadata": {
        "id": "CsRRwcy4VDpS"
      },
      "source": [
        "##visualization"
      ]
    },
    {
      "cell_type": "code",
      "metadata": {
        "colab": {
          "base_uri": "https://localhost:8080/",
          "height": 689
        },
        "id": "YkzEtDbZU506",
        "outputId": "5f7b6230-0081-4ab2-aaa9-ae9d66d9b644"
      },
      "source": [
        "plt.figure(figsize=(40,20))\r\n",
        "count=1\r\n",
        "\r\n",
        "for i in np.random.randint(0,len(train_paths),3):\r\n",
        "    \r\n",
        "    plt.subplot(5,1, count)\r\n",
        "    \r\n",
        "    img_sample_path = train_paths[i]\r\n",
        "    img = Image.open(img_sample_path)\r\n",
        "    img_np = np.array(img)\r\n",
        "\r\n",
        "    keypoint = train.iloc[:,1:49] #위치 키포인트 하나씩 확인\r\n",
        "    keypoint_sample = keypoint.iloc[i, :]\r\n",
        "    \r\n",
        "    for j in range(0,len(keypoint.columns),2):\r\n",
        "        plt.plot(keypoint_sample[j], keypoint_sample[j+1],'rx')\r\n",
        "        plt.imshow(img_np)\r\n",
        "    \r\n",
        "    count += 1"
      ],
      "execution_count": 28,
      "outputs": [
        {
          "output_type": "display_data",
          "data": {
            "image/png": "[encoded data removed]",
            "text/plain": [
              "<Figure size 2880x1440 with 3 Axes>"
            ]
          },
          "metadata": {
            "tags": [],
            "needs_background": "light"
          }
        }
      ]
    },
    {
      "cell_type": "markdown",
      "metadata": {
        "id": "ZzBf3XyLVQsi"
      },
      "source": [
        "#Augmentation"
      ]
    },
    {
      "cell_type": "code",
      "metadata": {
        "id": "yIdh8Zp5VLUG"
      },
      "source": [
        "# Augmentation Setting\r\n",
        "pixel_shifts = [12]\r\n",
        "rotation_angles = [12]\r\n",
        "inc_brightness_ratio = 1.2\r\n",
        "dec_brightness_ratio = 0.8\r\n",
        "noise_ratio = 0.008"
      ],
      "execution_count": 29,
      "outputs": []
    },
    {
      "cell_type": "code",
      "metadata": {
        "id": "wU11_OmhVnQf"
      },
      "source": [
        "# 좌우 반전\r\n",
        "def left_right_flip(images, keypoints):\r\n",
        "    flipped_keypoints = []\r\n",
        "    flipped_images = np.flip(images, axis=1)\r\n",
        "    for idx, sample_keypoints in enumerate(keypoints):\r\n",
        "        if idx%2 == 0:\r\n",
        "            flipped_keypoints.append(480.-sample_keypoints)\r\n",
        "        else:\r\n",
        "            flipped_keypoints.append(sample_keypoints)\r\n",
        "    \r\n",
        "    # left_right_keypoints_convert\r\n",
        "    for i in range(8):\r\n",
        "        flipped_keypoints[2+(4*i):4+(4*i)], flipped_keypoints[4+(4*i):6+(4*i)] = flipped_keypoints[4+(4*i):6+(4*i)], flipped_keypoints[2+(4*i):4+(4*i)]\r\n",
        "    flipped_keypoints[36:38], flipped_keypoints[38:40] = flipped_keypoints[38:40], flipped_keypoints[36:38]\r\n",
        "    flipped_keypoints[44:46], flipped_keypoints[46:48] = flipped_keypoints[46:48], flipped_keypoints[44:46]\r\n",
        "    \r\n",
        "    return flipped_images, flipped_keypoints"
      ],
      "execution_count": 30,
      "outputs": []
    },
    {
      "cell_type": "code",
      "metadata": {
        "id": "d2LylPLCV31w"
      },
      "source": [
        "# 수직/수평 동시 이동\r\n",
        "# forloop에서 shift_x, shift_y 중 하나만 놓으면\r\n",
        "# 수직 또는 수평 이동만 따로 시행 가능\r\n",
        "def shift_images(images, keypoints):\r\n",
        "    # tensor -> numpy\r\n",
        "    images = images.numpy()\r\n",
        "    shifted_images = []\r\n",
        "    shifted_keypoints = []\r\n",
        "    for shift in pixel_shifts:   \r\n",
        "        for (shift_x,shift_y) in [(-shift,-shift),(-shift,shift),(shift,-shift),(shift,shift)]:\r\n",
        "            # 이동할 matrix 생성\r\n",
        "            M = np.float32([[1,0,shift_x],[0,1,shift_y]])\r\n",
        "            shifted_keypoint = np.array([])\r\n",
        "            shifted_x_list = np.array([])\r\n",
        "            shifted_y_list = np.array([])\r\n",
        "            # 이미지 이동\r\n",
        "            shifted_image = cv2.warpAffine(images, M, (480,270), flags=cv2.INTER_CUBIC)\r\n",
        "            # 이동한만큼 keypoint 수정\r\n",
        "            for idx, point in enumerate(keypoints):\r\n",
        "                if idx%2 == 0: \r\n",
        "                    shifted_keypoint = np.append(shifted_keypoint, point+shift_x)\r\n",
        "                    shifted_x_list = np.append(shifted_x_list, point+shift_x)\r\n",
        "                else: \r\n",
        "                    shifted_keypoint =np.append(shifted_keypoint, point+shift_y)\r\n",
        "                    shifted_y_list = np.append(shifted_y_list, point+shift_y)\r\n",
        "            # 수정된 keypoint가 이미지 사이즈를 벗어나지 않으면 append\r\n",
        "            if np.all(0.0<shifted_x_list) and np.all(shifted_x_list<480) and np.all(0.0<shifted_y_list) and np.all(shifted_y_list<270):\r\n",
        "                shifted_images.append(shifted_image.reshape(270,480,3))\r\n",
        "                shifted_keypoints.append(shifted_keypoint)\r\n",
        "\r\n",
        "    return shifted_images, shifted_keypoints"
      ],
      "execution_count": 31,
      "outputs": []
    },
    {
      "cell_type": "code",
      "metadata": {
        "id": "JyfIxH47V7im"
      },
      "source": [
        "# 이미지 회전\r\n",
        "def rotate_augmentation(images, keypoints):\r\n",
        "    # tensor -> numpy\r\n",
        "    images = images.numpy()\r\n",
        "    rotated_images = []\r\n",
        "    rotated_keypoints = []\r\n",
        "    \r\n",
        "    for angle in rotation_angles:\r\n",
        "        for angle in [angle,-angle]:\r\n",
        "            # 회전할 matrix 생성\r\n",
        "            M = cv2.getRotationMatrix2D((240,135), angle, 1.0)\r\n",
        "            # cv2_imshow로는 문제없지만 추후 plt.imshow로 사진을 확인할 경우 black screen 생성...\r\n",
        "            # 혹시 몰라 matrix를 ndarray로 변환\r\n",
        "            M = np.array(M, dtype=np.float32)\r\n",
        "            angle_rad = -angle*pi/180\r\n",
        "            rotated_image = cv2.warpAffine(images, M, (480,270))\r\n",
        "            rotated_images.append(rotated_image)\r\n",
        "            \r\n",
        "            # keypoint를 copy하여 forloop상에서 값이 계속 없데이트 되는 것을 회피\r\n",
        "            rotated_keypoint = keypoints.copy()\r\n",
        "            rotated_keypoint[0::2] = rotated_keypoint[0::2] - 240\r\n",
        "            rotated_keypoint[1::2] = rotated_keypoint[1::2] - 135\r\n",
        "            \r\n",
        "            for idx in range(0,len(rotated_keypoint),2):\r\n",
        "                rotated_keypoint[idx] = rotated_keypoint[idx]*cos(angle_rad)-rotated_keypoint[idx+1]*sin(angle_rad)\r\n",
        "                rotated_keypoint[idx+1] = rotated_keypoint[idx]*sin(angle_rad)+rotated_keypoint[idx+1]*cos(angle_rad)\r\n",
        "\r\n",
        "            rotated_keypoint[0::2] = rotated_keypoint[0::2] + 240\r\n",
        "            rotated_keypoint[1::2] = rotated_keypoint[1::2] + 135\r\n",
        "            rotated_keypoints.append(rotated_keypoint)\r\n",
        "        \r\n",
        "    return rotated_images, rotated_keypoints"
      ],
      "execution_count": 32,
      "outputs": []
    },
    {
      "cell_type": "code",
      "metadata": {
        "id": "ECYmVpMbV_Tf"
      },
      "source": [
        "# 이미지 해상도 조절\r\n",
        "def alter_brightness(images):\r\n",
        "    altered_brightness_images = []\r\n",
        "    inc_brightness_images = np.clip(images*inc_brightness_ratio, 0.0, 1.0)\r\n",
        "    dec_brightness_images = np.clip(images*dec_brightness_ratio, 0.0, 1.0)\r\n",
        "    altered_brightness_images.append(inc_brightness_images)\r\n",
        "    altered_brightness_images.append(dec_brightness_images)\r\n",
        "    return altered_brightness_images"
      ],
      "execution_count": 33,
      "outputs": []
    },
    {
      "cell_type": "code",
      "metadata": {
        "id": "DAPAInXpWBWj"
      },
      "source": [
        "# Random 노이즈 추가\r\n",
        "def add_noise(images):\r\n",
        "    images = images.numpy()\r\n",
        "    noise = noise_ratio * np.random.randn(270,480,3)\r\n",
        "    noise = noise.astype(np.float32)\r\n",
        "    # 생성한 noise를 원본에 add\r\n",
        "    noisy_image = cv2.add(images, noise)\r\n",
        "    return noisy_image"
      ],
      "execution_count": 34,
      "outputs": []
    },
    {
      "cell_type": "markdown",
      "metadata": {
        "id": "L_pB1SuGWHAS"
      },
      "source": [
        "#Generator"
      ]
    },
    {
      "cell_type": "code",
      "metadata": {
        "id": "NxxHimCYWDLV"
      },
      "source": [
        "def trainGenerator():\r\n",
        "    # 원본 이미지 resize\r\n",
        "    for i in range(len(train)):\r\n",
        "        img = tf.io.read_file(train['path'][i]) # path(경로)를 통해 이미지 읽기\r\n",
        "        img = tf.image.decode_jpeg(img, channels=3) # 경로를 통해 불러온 이미지를 tensor로 변환\r\n",
        "        img = tf.image.resize(img, [270,480]) # 이미지 resize \r\n",
        "        img = img/255                         # 이미지 rescaling\r\n",
        "        target = train.iloc[:,1:49].iloc[i,:] # keypoint 뽑아주기\r\n",
        "        target = target/4                     # image size를 1920x1080 -> 480x270으로 바꿔줬으므로 keypoint도 변경\r\n",
        "\r\n",
        "        yield (img, target)\r\n",
        "    \r\n",
        "    # horizontal flip\r\n",
        "    for i in range(len(train)):\r\n",
        "        img = tf.io.read_file(train['path'][i]) \r\n",
        "        img = tf.image.decode_jpeg(img, channels=3) \r\n",
        "        img = tf.image.resize(img, [270,480]) \r\n",
        "        img = img/255\r\n",
        "        target = train.iloc[:,1:49].iloc[i,:] \r\n",
        "        target = target/4\r\n",
        "        img, target = left_right_flip(img, target)\r\n",
        "        \r\n",
        "        yield (img, target)\r\n",
        "\r\n",
        "    # Horizontal & Vertical shift\r\n",
        "    for i in range(len(train)):\r\n",
        "        img = tf.io.read_file(train['path'][i])\r\n",
        "        img = tf.image.decode_jpeg(img, channels=3)\r\n",
        "        img = tf.image.resize(img, [270,480])\r\n",
        "        img = img/255\r\n",
        "        target = train.iloc[:,1:49].iloc[i,:]\r\n",
        "        target = target/4\r\n",
        "        img_list, target_list = shift_images(img, target)\r\n",
        "        for shifted_img, shifted_target in zip(img_list, target_list):\r\n",
        "            \r\n",
        "            yield (shifted_img, shifted_target)\r\n",
        "\r\n",
        "    # Rotation\r\n",
        "    for i in range(len(train)):\r\n",
        "        img = tf.io.read_file(train['path'][i])\r\n",
        "        img = tf.image.decode_jpeg(img, channels=3)\r\n",
        "        img = tf.image.resize(img, [270,480])\r\n",
        "        img = img/255\r\n",
        "        target = train.iloc[:,1:49].iloc[i,:]\r\n",
        "        target = target/4\r\n",
        "        img_list, target_list = rotate_augmentation(img, target)\r\n",
        "        for rotated_img, rotated_target in zip(img_list, target_list):\r\n",
        "            \r\n",
        "            yield (rotated_img, rotated_target)\r\n",
        "\r\n",
        "    # Alter_Brightness\r\n",
        "    for i in range(len(train)):\r\n",
        "        img = tf.io.read_file(train['path'][i])\r\n",
        "        img = tf.image.decode_jpeg(img, channels=3)\r\n",
        "        img = tf.image.resize(img, [270,480])\r\n",
        "        img = img/255\r\n",
        "        target = train.iloc[:,1:49].iloc[i,:]\r\n",
        "        target = target/4\r\n",
        "        img_list = alter_brightness(img)\r\n",
        "        for altered_brightness_images in img_list:\r\n",
        "            \r\n",
        "            yield (altered_brightness_images, target)\r\n",
        "\r\n",
        "    # Adding_Noise\r\n",
        "    for i in range(len(train)):\r\n",
        "        img = tf.io.read_file(train['path'][i])\r\n",
        "        img = tf.image.decode_jpeg(img, channels=3)\r\n",
        "        img = tf.image.resize(img, [270,480])\r\n",
        "        img = img/255\r\n",
        "        target = train.iloc[:,1:49].iloc[i,:]\r\n",
        "        target = target/4\r\n",
        "        noisy_img = add_noise(img)\r\n",
        "\r\n",
        "        yield (noisy_img, target)\r\n",
        "\r\n"
      ],
      "execution_count": 35,
      "outputs": []
    },
    {
      "cell_type": "code",
      "metadata": {
        "id": "1LXR9hkiWnGt"
      },
      "source": [
        "def validGenerator():\r\n",
        "    # 원본 이미지 resize\r\n",
        "    for i in range(len(valid)):\r\n",
        "        img = tf.io.read_file(valid['path'][i]) # path(경로)를 통해 이미지 읽기\r\n",
        "        img = tf.image.decode_jpeg(img, channels=3) # 경로를 통해 불러온 이미지를 tensor로 변환\r\n",
        "        img = tf.image.resize(img, [270,480]) # 이미지 resize \r\n",
        "        img = img/255                         # 이미지 rescaling\r\n",
        "        target = valid.iloc[:,1:49].iloc[i,:] # keypoint 뽑아주기\r\n",
        "        target = target/4                     # image size를 1920x1080 -> 480x270으로 바꿔줬으므로 keypoint도 변경\r\n",
        "\r\n",
        "        yield (img, target)"
      ],
      "execution_count": 36,
      "outputs": []
    },
    {
      "cell_type": "code",
      "metadata": {
        "id": "__Wnp3OHWpVl"
      },
      "source": [
        "batch_size = 64\r\n",
        "\r\n",
        "train_dataset = tf.data.Dataset.from_generator(trainGenerator, (tf.float32, tf.float32), (tf.TensorShape([270,480,3]),tf.TensorShape([48])))\r\n",
        "train_dataset = train_dataset.batch(batch_size).prefetch(1)\r\n",
        "valid_dataset = tf.data.Dataset.from_generator(validGenerator, (tf.float32, tf.float32), (tf.TensorShape([270,480,3]),tf.TensorShape([48])))\r\n",
        "valid_dataset = valid_dataset.batch(batch_size).prefetch(1)"
      ],
      "execution_count": 37,
      "outputs": []
    },
    {
      "cell_type": "markdown",
      "metadata": {
        "id": "Z5sVflOVWvA1"
      },
      "source": [
        "#Modeling"
      ]
    },
    {
      "cell_type": "code",
      "metadata": {
        "id": "6HsKvxCTWtYY"
      },
      "source": [
        "# Callback 설정\r\n",
        "earlystop = EarlyStopping(patience=7)\r\n",
        "learning_rate_reduction=ReduceLROnPlateau(\r\n",
        "                        monitor= \"val_loss\", \r\n",
        "                        patience = 2, \r\n",
        "                        factor = 0.85, \r\n",
        "                        min_lr=1e-7,\r\n",
        "                        verbose=1)\r\n",
        "\r\n",
        "model_check = ModelCheckpoint( #에포크마다 현재 가중치를 저장    \r\n",
        "        filepath=\"./baseline_with_augmentation.h5\", #모델 파일 경로\r\n",
        "        monitor='val_loss',  # val_loss 가 좋아지지 않으면 모델 파일을 덮어쓰지 않음.\r\n",
        "        save_best_only=True)\r\n",
        "\r\n",
        "callbacks = [earlystop, learning_rate_reduction, model_check]"
      ],
      "execution_count": 38,
      "outputs": []
    },
    {
      "cell_type": "code",
      "metadata": {
        "colab": {
          "base_uri": "https://localhost:8080/"
        },
        "id": "zS5OK_khW9v5",
        "outputId": "74a5a8a3-a55a-48c8-b0eb-9193931ade09"
      },
      "source": [
        "# Model Structure\r\n",
        "model = Sequential()\r\n",
        "\r\n",
        "model.add(Convolution2D(32, (3,3), padding='same', use_bias=False, input_shape=(270,480,3)))\r\n",
        "model.add(LeakyReLU(alpha = 0.1))\r\n",
        "model.add(BatchNormalization())\r\n",
        "model.add(Convolution2D(32, (3,3), padding='same', use_bias=False))\r\n",
        "model.add(LeakyReLU(alpha = 0.1))\r\n",
        "model.add(BatchNormalization())\r\n",
        "model.add(MaxPooling2D(pool_size=(2, 2)))\r\n",
        "\r\n",
        "\r\n",
        "model.add(Convolution2D(64, (3,3), padding='same', use_bias=False))\r\n",
        "model.add(LeakyReLU(alpha = 0.1))\r\n",
        "model.add(BatchNormalization())\r\n",
        "model.add(Convolution2D(64, (3,3), padding='same', use_bias=False))\r\n",
        "model.add(LeakyReLU(alpha = 0.1))\r\n",
        "model.add(BatchNormalization())\r\n",
        "model.add(MaxPooling2D(pool_size=(2, 2)))\r\n",
        "\r\n",
        "\r\n",
        "model.add(Convolution2D(96, (3,3), padding='same', use_bias=False))\r\n",
        "model.add(LeakyReLU(alpha = 0.1))\r\n",
        "model.add(BatchNormalization())\r\n",
        "model.add(Convolution2D(96, (3,3), padding='same', use_bias=False))\r\n",
        "model.add(LeakyReLU(alpha = 0.1))\r\n",
        "model.add(BatchNormalization())\r\n",
        "model.add(MaxPooling2D(pool_size=(2, 2)))\r\n",
        "\r\n",
        "\r\n",
        "model.add(Convolution2D(128, (3,3),padding='same', use_bias=False))\r\n",
        "model.add(LeakyReLU(alpha = 0.1))\r\n",
        "model.add(BatchNormalization())\r\n",
        "model.add(Convolution2D(128, (3,3),padding='same', use_bias=False))\r\n",
        "model.add(LeakyReLU(alpha = 0.1))\r\n",
        "model.add(BatchNormalization())\r\n",
        "model.add(MaxPooling2D(pool_size=(2, 2)))\r\n",
        "\r\n",
        "\r\n",
        "# model.add(Convolution2D(256, (3,3),padding='same',use_bias=False))\r\n",
        "# model.add(LeakyReLU(alpha = 0.1))\r\n",
        "# model.add(BatchNormalization())\r\n",
        "# model.add(Convolution2D(256, (3,3),padding='same',use_bias=False))\r\n",
        "# model.add(LeakyReLU(alpha = 0.1))\r\n",
        "# model.add(BatchNormalization())\r\n",
        "# model.add(MaxPooling2D(pool_size=(2, 2)))\r\n",
        "\r\n",
        "\r\n",
        "# model.add(Convolution2D(512, (3,3), padding='same', use_bias=False))\r\n",
        "# model.add(LeakyReLU(alpha = 0.1))\r\n",
        "# model.add(BatchNormalization())\r\n",
        "# model.add(Convolution2D(512, (3,3), padding='same', use_bias=False))\r\n",
        "# model.add(LeakyReLU(alpha = 0.1))\r\n",
        "# model.add(BatchNormalization())\r\n",
        "\r\n",
        "\r\n",
        "model.add(Flatten())\r\n",
        "model.add(Dense(512,activation='relu'))\r\n",
        "model.add(Dropout(0.5))\r\n",
        "model.add(Dense(48))\r\n",
        "model.summary()"
      ],
      "execution_count": 39,
      "outputs": [
        {
          "output_type": "stream",
          "text": [
            "Model: \"sequential\"\n",
            "_________________________________________________________________\n",
            "Layer (type)                 Output Shape              Param #   \n",
            "=================================================================\n",
            "conv2d (Conv2D)              (None, 270, 480, 32)      864       \n",
            "_________________________________________________________________\n",
            "leaky_re_lu (LeakyReLU)      (None, 270, 480, 32)      0         \n",
            "_________________________________________________________________\n",
            "batch_normalization (BatchNo (None, 270, 480, 32)      128       \n",
            "_________________________________________________________________\n",
            "conv2d_1 (Conv2D)            (None, 270, 480, 32)      9216      \n",
            "_________________________________________________________________\n",
            "leaky_re_lu_1 (LeakyReLU)    (None, 270, 480, 32)      0         \n",
            "_________________________________________________________________\n",
            "batch_normalization_1 (Batch (None, 270, 480, 32)      128       \n",
            "_________________________________________________________________\n",
            "max_pooling2d (MaxPooling2D) (None, 135, 240, 32)      0         \n",
            "_________________________________________________________________\n",
            "conv2d_2 (Conv2D)            (None, 135, 240, 64)      18432     \n",
            "_________________________________________________________________\n",
            "leaky_re_lu_2 (LeakyReLU)    (None, 135, 240, 64)      0         \n",
            "_________________________________________________________________\n",
            "batch_normalization_2 (Batch (None, 135, 240, 64)      256       \n",
            "_________________________________________________________________\n",
            "conv2d_3 (Conv2D)            (None, 135, 240, 64)      36864     \n",
            "_________________________________________________________________\n",
            "leaky_re_lu_3 (LeakyReLU)    (None, 135, 240, 64)      0         \n",
            "_________________________________________________________________\n",
            "batch_normalization_3 (Batch (None, 135, 240, 64)      256       \n",
            "_________________________________________________________________\n",
            "max_pooling2d_1 (MaxPooling2 (None, 67, 120, 64)       0         \n",
            "_________________________________________________________________\n",
            "conv2d_4 (Conv2D)            (None, 67, 120, 96)       55296     \n",
            "_________________________________________________________________\n",
            "leaky_re_lu_4 (LeakyReLU)    (None, 67, 120, 96)       0         \n",
            "_________________________________________________________________\n",
            "batch_normalization_4 (Batch (None, 67, 120, 96)       384       \n",
            "_________________________________________________________________\n",
            "conv2d_5 (Conv2D)            (None, 67, 120, 96)       82944     \n",
            "_________________________________________________________________\n",
            "leaky_re_lu_5 (LeakyReLU)    (None, 67, 120, 96)       0         \n",
            "_________________________________________________________________\n",
            "batch_normalization_5 (Batch (None, 67, 120, 96)       384       \n",
            "_________________________________________________________________\n",
            "max_pooling2d_2 (MaxPooling2 (None, 33, 60, 96)        0         \n",
            "_________________________________________________________________\n",
            "conv2d_6 (Conv2D)            (None, 33, 60, 128)       110592    \n",
            "_________________________________________________________________\n",
            "leaky_re_lu_6 (LeakyReLU)    (None, 33, 60, 128)       0         \n",
            "_________________________________________________________________\n",
            "batch_normalization_6 (Batch (None, 33, 60, 128)       512       \n",
            "_________________________________________________________________\n",
            "conv2d_7 (Conv2D)            (None, 33, 60, 128)       147456    \n",
            "_________________________________________________________________\n",
            "leaky_re_lu_7 (LeakyReLU)    (None, 33, 60, 128)       0         \n",
            "_________________________________________________________________\n",
            "batch_normalization_7 (Batch (None, 33, 60, 128)       512       \n",
            "_________________________________________________________________\n",
            "max_pooling2d_3 (MaxPooling2 (None, 16, 30, 128)       0         \n",
            "_________________________________________________________________\n",
            "flatten (Flatten)            (None, 61440)             0         \n",
            "_________________________________________________________________\n",
            "dense (Dense)                (None, 512)               31457792  \n",
            "_________________________________________________________________\n",
            "dropout (Dropout)            (None, 512)               0         \n",
            "_________________________________________________________________\n",
            "dense_1 (Dense)              (None, 48)                24624     \n",
            "=================================================================\n",
            "Total params: 31,946,640\n",
            "Trainable params: 31,945,360\n",
            "Non-trainable params: 1,280\n",
            "_________________________________________________________________\n"
          ],
          "name": "stdout"
        }
      ]
    },
    {
      "cell_type": "code",
      "metadata": {
        "colab": {
          "base_uri": "https://localhost:8080/"
        },
        "id": "Hdlsc_g5XAp2",
        "outputId": "473cec76-09cb-4cc4-feff-fd05c9294f99"
      },
      "source": [
        "model.compile(optimizer=Adam(learning_rate=0.0001), \r\n",
        "              loss='mean_squared_error',\r\n",
        "              metrics=['mae'])\r\n",
        "\r\n",
        "history = model.fit(train_dataset,\r\n",
        "                    epochs=10,\r\n",
        "                    validation_data=valid_dataset,\r\n",
        "                    callbacks = callbacks,\r\n",
        "                    verbose=1)"
      ],
      "execution_count": null,
      "outputs": [
        {
          "output_type": "stream",
          "text": [
            "Epoch 1/10\n"
          ],
          "name": "stdout"
        }
      ]
    },
    {
      "cell_type": "code",
      "metadata": {
        "id": "5q5OLXVwXH-b"
      },
      "source": [
        ""
      ],
      "execution_count": null,
      "outputs": []
    }
  ]
}